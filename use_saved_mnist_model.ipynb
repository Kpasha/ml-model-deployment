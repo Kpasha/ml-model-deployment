{
  "nbformat": 4,
  "nbformat_minor": 0,
  "metadata": {
    "colab": {
      "name": "use_saved_mnist_model.ipynb",
      "provenance": [],
      "authorship_tag": "ABX9TyP25X6JkSc8GJpKzlRjWRbi",
      "include_colab_link": true
    },
    "kernelspec": {
      "name": "python3",
      "display_name": "Python 3"
    }
  },
  "cells": [
    {
      "cell_type": "markdown",
      "metadata": {
        "id": "view-in-github",
        "colab_type": "text"
      },
      "source": [
        "<a href=\"https://colab.research.google.com/github/futurexskill/ml-model-deployment/blob/main/use_saved_mnist_model.ipynb\" target=\"_parent\"><img src=\"https://colab.research.google.com/assets/colab-badge.svg\" alt=\"Open In Colab\"/></a>"
      ]
    },
    {
      "cell_type": "code",
      "metadata": {
        "id": "T4U7r3ajkNs-",
        "outputId": "f69c99cc-6550-42ab-aec0-73e543dbb271",
        "colab": {
          "base_uri": "https://localhost:8080/",
          "height": 34
        }
      },
      "source": [
        "!ls"
      ],
      "execution_count": 1,
      "outputs": [
        {
          "output_type": "stream",
          "text": [
            "sample_data\n"
          ],
          "name": "stdout"
        }
      ]
    },
    {
      "cell_type": "code",
      "metadata": {
        "id": "TRw-uuyekRaj",
        "outputId": "ab0613a5-6de2-4b8c-e0c8-06c68180cf12",
        "colab": {
          "base_uri": "https://localhost:8080/",
          "height": 286
        }
      },
      "source": [
        "!wget https://github.com/futurexskill/ml-model-deployment/raw/main/mnistmodel.zip"
      ],
      "execution_count": 2,
      "outputs": [
        {
          "output_type": "stream",
          "text": [
            "--2020-10-18 21:16:37--  https://github.com/futurexskill/ml-model-deployment/raw/main/mnistmodel.zip\n",
            "Resolving github.com (github.com)... 140.82.114.4\n",
            "Connecting to github.com (github.com)|140.82.114.4|:443... connected.\n",
            "HTTP request sent, awaiting response... 302 Found\n",
            "Location: https://raw.githubusercontent.com/futurexskill/ml-model-deployment/main/mnistmodel.zip [following]\n",
            "--2020-10-18 21:16:38--  https://raw.githubusercontent.com/futurexskill/ml-model-deployment/main/mnistmodel.zip\n",
            "Resolving raw.githubusercontent.com (raw.githubusercontent.com)... 151.101.0.133, 151.101.64.133, 151.101.128.133, ...\n",
            "Connecting to raw.githubusercontent.com (raw.githubusercontent.com)|151.101.0.133|:443... connected.\n",
            "HTTP request sent, awaiting response... 200 OK\n",
            "Length: 2868489 (2.7M) [application/zip]\n",
            "Saving to: ‘mnistmodel.zip’\n",
            "\n",
            "mnistmodel.zip      100%[===================>]   2.74M  15.2MB/s    in 0.2s    \n",
            "\n",
            "2020-10-18 21:16:38 (15.2 MB/s) - ‘mnistmodel.zip’ saved [2868489/2868489]\n",
            "\n"
          ],
          "name": "stdout"
        }
      ]
    },
    {
      "cell_type": "code",
      "metadata": {
        "id": "GK6fGHZVkkWJ",
        "outputId": "b25f297c-fa93-4477-83c0-935239855a63",
        "colab": {
          "base_uri": "https://localhost:8080/",
          "height": 34
        }
      },
      "source": [
        "!ls"
      ],
      "execution_count": 3,
      "outputs": [
        {
          "output_type": "stream",
          "text": [
            "mnistmodel.zip\tsample_data\n"
          ],
          "name": "stdout"
        }
      ]
    },
    {
      "cell_type": "code",
      "metadata": {
        "id": "nAUIev95kmB3",
        "outputId": "581c9229-b60a-452e-83cd-b7d1445a1521",
        "colab": {
          "base_uri": "https://localhost:8080/",
          "height": 151
        }
      },
      "source": [
        "!unzip mnistmodel.zip"
      ],
      "execution_count": 4,
      "outputs": [
        {
          "output_type": "stream",
          "text": [
            "Archive:  mnistmodel.zip\n",
            "   creating: image_classifier_model/\n",
            "   creating: image_classifier_model/1/\n",
            "   creating: image_classifier_model/1/assets/\n",
            "  inflating: image_classifier_model/1/saved_model.pb  \n",
            "   creating: image_classifier_model/1/variables/\n",
            "  inflating: image_classifier_model/1/variables/variables.index  \n",
            "  inflating: image_classifier_model/1/variables/variables.data-00000-of-00001  \n"
          ],
          "name": "stdout"
        }
      ]
    },
    {
      "cell_type": "code",
      "metadata": {
        "id": "kjyL0pmikoWv",
        "outputId": "0b3cb9e5-7578-432a-fa08-05a976d84ce0",
        "colab": {
          "base_uri": "https://localhost:8080/",
          "height": 34
        }
      },
      "source": [
        "!ls"
      ],
      "execution_count": 5,
      "outputs": [
        {
          "output_type": "stream",
          "text": [
            "image_classifier_model\tmnistmodel.zip\tsample_data\n"
          ],
          "name": "stdout"
        }
      ]
    },
    {
      "cell_type": "code",
      "metadata": {
        "id": "Pesa0hTNkpOk"
      },
      "source": [
        "import keras\n",
        "from keras.datasets import mnist\n",
        "from keras.models import Sequential\n",
        "from keras.layers import Dense\n",
        "from keras.optimizers import RMSprop\n",
        "import matplotlib.pyplot as plt\n"
      ],
      "execution_count": 14,
      "outputs": []
    },
    {
      "cell_type": "code",
      "metadata": {
        "id": "3pcmLBouktrZ",
        "outputId": "aa48222f-f951-4ba9-aa8f-63b6df82c0ca",
        "colab": {
          "base_uri": "https://localhost:8080/",
          "height": 50
        }
      },
      "source": [
        "(mnist_train_images, mnist_train_labels), (mnist_test_images, mnist_test_labels) = mnist.load_data()"
      ],
      "execution_count": 7,
      "outputs": [
        {
          "output_type": "stream",
          "text": [
            "Downloading data from https://storage.googleapis.com/tensorflow/tf-keras-datasets/mnist.npz\n",
            "11493376/11490434 [==============================] - 0s 0us/step\n"
          ],
          "name": "stdout"
        }
      ]
    },
    {
      "cell_type": "code",
      "metadata": {
        "id": "ZRfahTldkwZ_"
      },
      "source": [
        "train_images = mnist_train_images.reshape(60000, 784)\n",
        "test_images = mnist_test_images.reshape(10000, 784)\n",
        "train_images = train_images.astype('float32')\n",
        "test_images = test_images.astype('float32')\n",
        "train_images /= 255\n",
        "test_images /= 255"
      ],
      "execution_count": 8,
      "outputs": []
    },
    {
      "cell_type": "code",
      "metadata": {
        "id": "9k4__bZokzon"
      },
      "source": [
        "train_labels = keras.utils.to_categorical(mnist_train_labels, 10)\n",
        "test_labels = keras.utils.to_categorical(mnist_test_labels, 10)"
      ],
      "execution_count": 9,
      "outputs": []
    },
    {
      "cell_type": "code",
      "metadata": {
        "id": "KOwX_NwJlIRQ"
      },
      "source": [
        "from tensorflow.keras.models import load_model\n"
      ],
      "execution_count": 11,
      "outputs": []
    },
    {
      "cell_type": "code",
      "metadata": {
        "id": "sW_2c1lpk2QF"
      },
      "source": [
        "mnist_new_model = load_model('image_classifier_model/1/')\n"
      ],
      "execution_count": 12,
      "outputs": []
    },
    {
      "cell_type": "code",
      "metadata": {
        "id": "3G8LCPeVlCAc",
        "outputId": "50bfcaf3-41c5-4789-99ca-194cf8218443",
        "colab": {
          "base_uri": "https://localhost:8080/",
          "height": 281
        }
      },
      "source": [
        "test_image = test_images[5233,:].reshape(1,784)\n",
        "predicted_cat = mnist_new_model.predict(test_image).argmax()\n",
        "label = test_labels[5233].argmax()\n",
        "plt.title('Prediction: %d Label: %d' % (predicted_cat, label))\n",
        "plt.imshow(test_image.reshape([28,28]), cmap=plt.get_cmap('gray_r'))\n",
        "plt.show()"
      ],
      "execution_count": 15,
      "outputs": [
        {
          "output_type": "display_data",
          "data": {
            "image/png": "[encoded data removed]",
            "text/plain": [
              "<Figure size 432x288 with 1 Axes>"
            ]
          },
          "metadata": {
            "tags": [],
            "needs_background": "light"
          }
        }
      ]
    },
    {
      "cell_type": "code",
      "metadata": {
        "id": "xDiYBbf0lMNt",
        "outputId": "c1d951de-e9c2-4994-852a-07997058cc27",
        "colab": {
          "base_uri": "https://localhost:8080/",
          "height": 281
        }
      },
      "source": [
        "test_image = test_images[3245,:].reshape(1,784)\n",
        "predicted_cat = mnist_new_model.predict(test_image).argmax()\n",
        "label = test_labels[3245].argmax()\n",
        "plt.title('Prediction: %d Label: %d' % (predicted_cat, label))\n",
        "plt.imshow(test_image.reshape([28,28]), cmap=plt.get_cmap('gray_r'))\n",
        "plt.show()"
      ],
      "execution_count": 17,
      "outputs": [
        {
          "output_type": "display_data",
          "data": {
            "image/png": "[encoded data removed]",
            "text/plain": [
              "<Figure size 432x288 with 1 Axes>"
            ]
          },
          "metadata": {
            "tags": [],
            "needs_background": "light"
          }
        }
      ]
    },
    {
      "cell_type": "code",
      "metadata": {
        "id": "h2Yyg9RDljMe"
      },
      "source": [
        ""
      ],
      "execution_count": null,
      "outputs": []
    }
  ]
}