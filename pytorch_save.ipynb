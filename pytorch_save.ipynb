{
  "nbformat": 4,
  "nbformat_minor": 0,
  "metadata": {
    "colab": {
      "name": "pytorch_save.ipynb",
      "provenance": [],
      "collapsed_sections": []
    },
    "kernelspec": {
      "name": "python3",
      "display_name": "Python 3"
    }
  },
  "cells": [
    {
      "cell_type": "markdown",
      "metadata": {
        "id": "6XgFbd6dedIQ"
      },
      "source": [
        "Load the libraries"
      ]
    },
    {
      "cell_type": "code",
      "metadata": {
        "id": "7DGB8CHJscTD"
      },
      "source": [
        "import torch\n",
        "import torch.nn as nn\n",
        "from torch.nn import functional as F\n",
        "\n",
        "import pandas as pd\n",
        "import numpy as np"
      ],
      "execution_count": null,
      "outputs": []
    },
    {
      "cell_type": "code",
      "metadata": {
        "id": "DyRtQo-WtiC8"
      },
      "source": [
        "dataset = pd.read_csv('https://raw.githubusercontent.com/futurexskill/ml-model-deployment/main/storepurchasedata.csv')"
      ],
      "execution_count": null,
      "outputs": []
    },
    {
      "cell_type": "code",
      "metadata": {
        "id": "VZO6l0sKtxgR",
        "outputId": "0cc183c7-d986-4bff-e748-a7505c90784c",
        "colab": {
          "base_uri": "https://localhost:8080/",
          "height": 141
        }
      },
      "source": [
        "dataset.sample(3)"
      ],
      "execution_count": null,
      "outputs": [
        {
          "output_type": "execute_result",
          "data": {
            "text/html": [
              "<div>\n",
              "<style scoped>\n",
              "    .dataframe tbody tr th:only-of-type {\n",
              "        vertical-align: middle;\n",
              "    }\n",
              "\n",
              "    .dataframe tbody tr th {\n",
              "        vertical-align: top;\n",
              "    }\n",
              "\n",
              "    .dataframe thead th {\n",
              "        text-align: right;\n",
              "    }\n",
              "</style>\n",
              "<table border=\"1\" class=\"dataframe\">\n",
              "  <thead>\n",
              "    <tr style=\"text-align: right;\">\n",
              "      <th></th>\n",
              "      <th>Age</th>\n",
              "      <th>Salary</th>\n",
              "      <th>Purchased</th>\n",
              "    </tr>\n",
              "  </thead>\n",
              "  <tbody>\n",
              "    <tr>\n",
              "      <th>25</th>\n",
              "      <td>43</td>\n",
              "      <td>52000</td>\n",
              "      <td>1</td>\n",
              "    </tr>\n",
              "    <tr>\n",
              "      <th>14</th>\n",
              "      <td>32</td>\n",
              "      <td>45000</td>\n",
              "      <td>0</td>\n",
              "    </tr>\n",
              "    <tr>\n",
              "      <th>22</th>\n",
              "      <td>40</td>\n",
              "      <td>60000</td>\n",
              "      <td>1</td>\n",
              "    </tr>\n",
              "  </tbody>\n",
              "</table>\n",
              "</div>"
            ],
            "text/plain": [
              "    Age  Salary  Purchased\n",
              "25   43   52000          1\n",
              "14   32   45000          0\n",
              "22   40   60000          1"
            ]
          },
          "metadata": {
            "tags": []
          },
          "execution_count": 3
        }
      ]
    },
    {
      "cell_type": "code",
      "metadata": {
        "id": "PbUXjSZRw4vS"
      },
      "source": [
        "X = dataset.iloc[:, :-1].values\n",
        "y = dataset.iloc[:,-1].values"
      ],
      "execution_count": null,
      "outputs": []
    },
    {
      "cell_type": "code",
      "metadata": {
        "id": "8OLx7mSEw9L2"
      },
      "source": [
        "from sklearn.model_selection import train_test_split\n",
        "X_train, X_test, y_train, y_test = train_test_split(X, y, test_size =.20,random_state=0)"
      ],
      "execution_count": null,
      "outputs": []
    },
    {
      "cell_type": "code",
      "metadata": {
        "id": "kEudglkYutdV"
      },
      "source": [
        "from sklearn.preprocessing import StandardScaler\n",
        "sc = StandardScaler()\n",
        "X_train = sc.fit_transform(X_train)\n",
        "X_test = sc.transform(X_test)"
      ],
      "execution_count": null,
      "outputs": []
    },
    {
      "cell_type": "markdown",
      "metadata": {
        "id": "0h1Qaf6kevEK"
      },
      "source": [
        "Convert training and test data to tensor format of data type float"
      ]
    },
    {
      "cell_type": "code",
      "metadata": {
        "id": "TQ9CJjx-u1Xb"
      },
      "source": [
        "Xtrain_ = torch.from_numpy(X_train).float()\n",
        "Xtest_ = torch.from_numpy(X_test).float()\n"
      ],
      "execution_count": null,
      "outputs": []
    },
    {
      "cell_type": "code",
      "metadata": {
        "id": "WAlYfRHnwWTw"
      },
      "source": [
        "ytrain_ = torch.from_numpy(y_train)\n",
        "ytest_ = torch.from_numpy(y_test)"
      ],
      "execution_count": null,
      "outputs": []
    },
    {
      "cell_type": "code",
      "metadata": {
        "id": "m7r-ocJdJ2Ft",
        "outputId": "bd507ff1-4305-4e98-9821-aa04d8411b19",
        "colab": {
          "base_uri": "https://localhost:8080/",
          "height": 35
        }
      },
      "source": [
        "Xtrain_.shape, ytrain_.shape"
      ],
      "execution_count": null,
      "outputs": [
        {
          "output_type": "execute_result",
          "data": {
            "text/plain": [
              "(torch.Size([32, 2]), torch.Size([32]))"
            ]
          },
          "metadata": {
            "tags": []
          },
          "execution_count": 9
        }
      ]
    },
    {
      "cell_type": "code",
      "metadata": {
        "id": "tIUikalVyNQ1",
        "outputId": "de381d9b-4c37-46a1-a8ab-6ef5ef0e9f84",
        "colab": {
          "base_uri": "https://localhost:8080/",
          "height": 35
        }
      },
      "source": [
        "Xtest_.shape, ytest_.shape"
      ],
      "execution_count": null,
      "outputs": [
        {
          "output_type": "execute_result",
          "data": {
            "text/plain": [
              "(torch.Size([8, 2]), torch.Size([8]))"
            ]
          },
          "metadata": {
            "tags": []
          },
          "execution_count": 10
        }
      ]
    },
    {
      "cell_type": "code",
      "metadata": {
        "id": "SUtJL0cPyQe9"
      },
      "source": [
        "input_size=2\n",
        "output_size=2\n",
        "hidden_size=10"
      ],
      "execution_count": null,
      "outputs": []
    },
    {
      "cell_type": "markdown",
      "metadata": {
        "id": "-Q3JLbQbfEnz"
      },
      "source": [
        "Classifier model with 2 hidden layers. It contains linear layers and sigmoid activation function\n",
        "\n",
        "log softmax for the classifier\n"
      ]
    },
    {
      "cell_type": "code",
      "metadata": {
        "id": "adaskl1LKIog"
      },
      "source": [
        "class Net(nn.Module):\n",
        "   def __init__(self):\n",
        "       super(Net, self).__init__()\n",
        "       self.fc1 = torch.nn.Linear(input_size, hidden_size)\n",
        "       self.fc2 = torch.nn.Linear(hidden_size, hidden_size)\n",
        "       self.fc3 = torch.nn.Linear(hidden_size, output_size)\n",
        "\n",
        "\n",
        "   def forward(self, X):\n",
        "       X = torch.sigmoid((self.fc1(X)))\n",
        "       X = torch.sigmoid((self.fc2(X)))\n",
        "       X = self.fc3(X)\n",
        "\n",
        "       return F.log_softmax(X,dim=1)"
      ],
      "execution_count": null,
      "outputs": []
    },
    {
      "cell_type": "code",
      "metadata": {
        "id": "YfKP2fPYLg8X"
      },
      "source": [
        "model = Net()\n",
        "\n"
      ],
      "execution_count": null,
      "outputs": []
    },
    {
      "cell_type": "markdown",
      "metadata": {
        "id": "4ExUa2RCfwtW"
      },
      "source": [
        "learning rate = 0.01 and NLLLoss function"
      ]
    },
    {
      "cell_type": "code",
      "metadata": {
        "id": "PMAh6P9VLriY"
      },
      "source": [
        "import torch.optim as optim\n",
        "optimizer = torch.optim.Adam(model.parameters(), lr=0.01)\n",
        "loss_fn = nn.NLLLoss()"
      ],
      "execution_count": null,
      "outputs": []
    },
    {
      "cell_type": "code",
      "metadata": {
        "id": "JLVDAcNUME6Q"
      },
      "source": [
        "epochs = 100\n"
      ],
      "execution_count": null,
      "outputs": []
    },
    {
      "cell_type": "code",
      "metadata": {
        "id": "rMvebmHdM8L7",
        "outputId": "7d0b73cf-1e35-429e-90af-3cc988cb275d",
        "colab": {
          "base_uri": "https://localhost:8080/",
          "height": 1000
        }
      },
      "source": [
        "for epoch in range(epochs):\n",
        "  optimizer.zero_grad()\n",
        "  Ypred = model(Xtrain_)\n",
        "  loss = loss_fn(Ypred,  ytrain_)\n",
        "  loss.backward()\n",
        "  optimizer.step()\n",
        "  print('Epoch',epoch, 'loss',loss.item())"
      ],
      "execution_count": null,
      "outputs": [
        {
          "output_type": "stream",
          "text": [
            "Epoch 0 loss 0.6984546780586243\n",
            "Epoch 1 loss 0.6883957982063293\n",
            "Epoch 2 loss 0.6822064518928528\n",
            "Epoch 3 loss 0.6791566610336304\n",
            "Epoch 4 loss 0.6778274178504944\n",
            "Epoch 5 loss 0.67659991979599\n",
            "Epoch 6 loss 0.6745062470436096\n",
            "Epoch 7 loss 0.6713821887969971\n",
            "Epoch 8 loss 0.6674991846084595\n",
            "Epoch 9 loss 0.6632304191589355\n",
            "Epoch 10 loss 0.6588670611381531\n",
            "Epoch 11 loss 0.6545367240905762\n",
            "Epoch 12 loss 0.6501933932304382\n",
            "Epoch 13 loss 0.6456645727157593\n",
            "Epoch 14 loss 0.6407316327095032\n",
            "Epoch 15 loss 0.6352043151855469\n",
            "Epoch 16 loss 0.6289618015289307\n",
            "Epoch 17 loss 0.621955156326294\n",
            "Epoch 18 loss 0.6141886711120605\n",
            "Epoch 19 loss 0.6056920886039734\n",
            "Epoch 20 loss 0.5965004563331604\n",
            "Epoch 21 loss 0.5866397619247437\n",
            "Epoch 22 loss 0.5761235356330872\n",
            "Epoch 23 loss 0.5649536848068237\n",
            "Epoch 24 loss 0.5531277060508728\n",
            "Epoch 25 loss 0.5406484603881836\n",
            "Epoch 26 loss 0.5275341272354126\n",
            "Epoch 27 loss 0.5138262510299683\n",
            "Epoch 28 loss 0.49959197640419006\n",
            "Epoch 29 loss 0.4849202036857605\n",
            "Epoch 30 loss 0.46991610527038574\n",
            "Epoch 31 loss 0.45469188690185547\n",
            "Epoch 32 loss 0.43936097621917725\n",
            "Epoch 33 loss 0.4240320920944214\n",
            "Epoch 34 loss 0.40880873799324036\n",
            "Epoch 35 loss 0.39378973841667175\n",
            "Epoch 36 loss 0.3790720999240875\n",
            "Epoch 37 loss 0.3647518455982208\n",
            "Epoch 38 loss 0.3509221076965332\n",
            "Epoch 39 loss 0.33766937255859375\n",
            "Epoch 40 loss 0.32506826519966125\n",
            "Epoch 41 loss 0.31317684054374695\n",
            "Epoch 42 loss 0.30203306674957275\n",
            "Epoch 43 loss 0.2916542887687683\n",
            "Epoch 44 loss 0.2820401191711426\n",
            "Epoch 45 loss 0.2731776237487793\n",
            "Epoch 46 loss 0.26504626870155334\n",
            "Epoch 47 loss 0.25762125849723816\n",
            "Epoch 48 loss 0.25087398290634155\n",
            "Epoch 49 loss 0.244770348072052\n",
            "Epoch 50 loss 0.23927022516727448\n",
            "Epoch 51 loss 0.23432764410972595\n",
            "Epoch 52 loss 0.22989341616630554\n",
            "Epoch 53 loss 0.2259179949760437\n",
            "Epoch 54 loss 0.22235438227653503\n",
            "Epoch 55 loss 0.21915942430496216\n",
            "Epoch 56 loss 0.21629385650157928\n",
            "Epoch 57 loss 0.21372105181217194\n",
            "Epoch 58 loss 0.21140609681606293\n",
            "Epoch 59 loss 0.20931600034236908\n",
            "Epoch 60 loss 0.20741978287696838\n",
            "Epoch 61 loss 0.20568975806236267\n",
            "Epoch 62 loss 0.20410184562206268\n",
            "Epoch 63 loss 0.20263560116291046\n",
            "Epoch 64 loss 0.2012733817100525\n",
            "Epoch 65 loss 0.1999996304512024\n",
            "Epoch 66 loss 0.19880054891109467\n",
            "Epoch 67 loss 0.19766376912593842\n",
            "Epoch 68 loss 0.1965784877538681\n",
            "Epoch 69 loss 0.19553591310977936\n",
            "Epoch 70 loss 0.19452892243862152\n",
            "Epoch 71 loss 0.1935521364212036\n",
            "Epoch 72 loss 0.19260138273239136\n",
            "Epoch 73 loss 0.1916733831167221\n",
            "Epoch 74 loss 0.19076544046401978\n",
            "Epoch 75 loss 0.18987518548965454\n",
            "Epoch 76 loss 0.18900083005428314\n",
            "Epoch 77 loss 0.1881411224603653\n",
            "Epoch 78 loss 0.1872953176498413\n",
            "Epoch 79 loss 0.18646299839019775\n",
            "Epoch 80 loss 0.18564406037330627\n",
            "Epoch 81 loss 0.1848384141921997\n",
            "Epoch 82 loss 0.1840459406375885\n",
            "Epoch 83 loss 0.18326665461063385\n",
            "Epoch 84 loss 0.18250052630901337\n",
            "Epoch 85 loss 0.18174773454666138\n",
            "Epoch 86 loss 0.181008443236351\n",
            "Epoch 87 loss 0.18028278648853302\n",
            "Epoch 88 loss 0.1795709878206253\n",
            "Epoch 89 loss 0.17887306213378906\n",
            "Epoch 90 loss 0.17818878591060638\n",
            "Epoch 91 loss 0.17751815915107727\n",
            "Epoch 92 loss 0.17686088383197784\n",
            "Epoch 93 loss 0.176216721534729\n",
            "Epoch 94 loss 0.17558538913726807\n",
            "Epoch 95 loss 0.17496661841869354\n",
            "Epoch 96 loss 0.17435988783836365\n",
            "Epoch 97 loss 0.1737649142742157\n",
            "Epoch 98 loss 0.17318105697631836\n",
            "Epoch 99 loss 0.17260797321796417\n"
          ],
          "name": "stdout"
        }
      ]
    },
    {
      "cell_type": "markdown",
      "metadata": {
        "id": "CYOzCDNygEQz"
      },
      "source": [
        "model paramters can be saved"
      ]
    },
    {
      "cell_type": "code",
      "metadata": {
        "id": "G5UedZ0SNM7x",
        "outputId": "6df9b13f-56b3-4188-92fe-fc84fdd4e135",
        "colab": {
          "base_uri": "https://localhost:8080/",
          "height": 711
        }
      },
      "source": [
        "list(model.parameters())"
      ],
      "execution_count": null,
      "outputs": [
        {
          "output_type": "execute_result",
          "data": {
            "text/plain": [
              "[Parameter containing:\n",
              " tensor([[ 0.1528,  1.1299],\n",
              "         [-1.3217, -1.2464],\n",
              "         [ 0.9343,  1.5205],\n",
              "         [ 0.8340,  1.5981],\n",
              "         [ 1.1413,  0.3927],\n",
              "         [-0.9755, -0.6465],\n",
              "         [-1.0519, -1.1970],\n",
              "         [-1.3397, -0.6035],\n",
              "         [-0.8232, -1.4804],\n",
              "         [-0.1030, -1.4247]], requires_grad=True), Parameter containing:\n",
              " tensor([-0.0473,  0.1453, -0.2659, -0.2591, -0.2823,  0.2346,  0.1407,  0.2148,\n",
              "          0.2586,  0.0946], requires_grad=True), Parameter containing:\n",
              " tensor([[ 1.0649, -0.9615,  0.6178,  0.8507,  0.4290, -0.7251, -0.6516, -0.6319,\n",
              "          -0.7880, -0.8869],\n",
              "         [ 0.4954, -0.6788,  0.5989,  0.7300,  0.2990, -0.5910, -0.6517, -0.8506,\n",
              "          -0.6689, -0.7390],\n",
              "         [ 0.5259, -0.6031,  0.5900,  0.4257,  0.3482, -0.3278, -0.8952, -0.7045,\n",
              "          -0.8022, -0.4769],\n",
              "         [ 0.6720, -0.5637,  0.6571,  0.9568,  0.5646, -0.5459, -0.8427, -0.8755,\n",
              "          -0.5685, -0.8071],\n",
              "         [ 0.4090, -0.8782,  0.7230,  0.8878,  0.6911, -0.8570, -0.6420, -0.9949,\n",
              "          -0.6547, -1.0679],\n",
              "         [ 1.1189, -0.8560,  0.8169,  0.8123,  0.5602, -0.6819, -0.8980, -0.8792,\n",
              "          -0.4975, -1.0195],\n",
              "         [-0.4605,  0.8978, -0.8565, -0.9323, -0.6809,  0.8157,  0.5827,  0.4171,\n",
              "           0.9723,  0.5971],\n",
              "         [-0.9025,  0.7759, -0.9729, -0.5422, -0.4520,  0.7136,  0.8899,  0.7791,\n",
              "           1.0102,  0.8830],\n",
              "         [-0.5912,  1.0443, -1.0297, -0.9363, -0.6852,  0.6443,  0.5544,  0.5355,\n",
              "           0.5443,  0.7072],\n",
              "         [ 0.3405, -0.5314,  0.5400,  1.0709,  0.6544, -0.5349, -0.4686, -0.3247,\n",
              "          -0.9196, -0.7460]], requires_grad=True), Parameter containing:\n",
              " tensor([ 0.2728,  0.6118,  0.3213,  0.1233,  0.6340,  0.2447, -0.1633, -0.6014,\n",
              "          0.0439,  0.1184], requires_grad=True), Parameter containing:\n",
              " tensor([[-0.6332, -0.6454, -0.9087, -0.6098, -0.8094, -0.3476,  0.6661,  0.6539,\n",
              "           0.5378, -0.4746],\n",
              "         [ 0.4659,  0.4209,  0.9234,  0.9275,  0.3157,  0.8946, -0.7639, -0.3586,\n",
              "          -0.5599,  0.6247]], requires_grad=True), Parameter containing:\n",
              " tensor([-0.1016, -0.2015], requires_grad=True)]"
            ]
          },
          "metadata": {
            "tags": []
          },
          "execution_count": 18
        }
      ]
    },
    {
      "cell_type": "code",
      "metadata": {
        "id": "iy0VUdHCTxyL",
        "outputId": "0665ebd8-015b-4c0f-9530-88259e8a27e6",
        "colab": {
          "base_uri": "https://localhost:8080/",
          "height": 35
        }
      },
      "source": [
        "torch.from_numpy(sc.transform(np.array([[40,20000]]))).float()"
      ],
      "execution_count": null,
      "outputs": [
        {
          "output_type": "execute_result",
          "data": {
            "text/plain": [
              "tensor([[ 0.0829, -1.4975]])"
            ]
          },
          "metadata": {
            "tags": []
          },
          "execution_count": 19
        }
      ]
    },
    {
      "cell_type": "code",
      "metadata": {
        "id": "EtMqaK2pTZ6_",
        "outputId": "b8d78485-682c-451f-de17-dc48151077c6",
        "colab": {
          "base_uri": "https://localhost:8080/",
          "height": 35
        }
      },
      "source": [
        "y_cust_20_40000 = model(torch.from_numpy(sc.transform(np.array([[40,20000]]))).float())\n",
        "y_cust_20_40000"
      ],
      "execution_count": null,
      "outputs": [
        {
          "output_type": "execute_result",
          "data": {
            "text/plain": [
              "tensor([[-0.0480, -3.0606]], grad_fn=<LogSoftmaxBackward>)"
            ]
          },
          "metadata": {
            "tags": []
          },
          "execution_count": 20
        }
      ]
    },
    {
      "cell_type": "code",
      "metadata": {
        "id": "jq5-DiseXXpt",
        "outputId": "535a4b5a-0edd-40e5-8469-e999658b48c3",
        "colab": {
          "base_uri": "https://localhost:8080/",
          "height": 35
        }
      },
      "source": [
        "_, predicted_20_40000 = torch.max(y_cust_20_40000.data,-1)\n",
        "predicted_20_40000"
      ],
      "execution_count": null,
      "outputs": [
        {
          "output_type": "execute_result",
          "data": {
            "text/plain": [
              "tensor([0])"
            ]
          },
          "metadata": {
            "tags": []
          },
          "execution_count": 21
        }
      ]
    },
    {
      "cell_type": "code",
      "metadata": {
        "id": "glfI3YXUVIy1",
        "outputId": "13bc90df-94f9-4ecf-96d0-d4f685f3a59c",
        "colab": {
          "base_uri": "https://localhost:8080/",
          "height": 35
        }
      },
      "source": [
        "y_cust_42_50000 = model(torch.from_numpy(sc.transform(np.array([[42,50000]]))).float())\n",
        "y_cust_42_50000"
      ],
      "execution_count": null,
      "outputs": [
        {
          "output_type": "execute_result",
          "data": {
            "text/plain": [
              "tensor([[-1.5621, -0.2353]], grad_fn=<LogSoftmaxBackward>)"
            ]
          },
          "metadata": {
            "tags": []
          },
          "execution_count": 22
        }
      ]
    },
    {
      "cell_type": "code",
      "metadata": {
        "id": "dN7rzznrXqPa",
        "outputId": "d4cae753-ee39-487e-f7c7-59d372ccf86c",
        "colab": {
          "base_uri": "https://localhost:8080/",
          "height": 35
        }
      },
      "source": [
        "_, predicted_42_50000 = torch.max(y_cust_42_50000.data,-1)\n",
        "predicted_42_50000"
      ],
      "execution_count": null,
      "outputs": [
        {
          "output_type": "execute_result",
          "data": {
            "text/plain": [
              "tensor([1])"
            ]
          },
          "metadata": {
            "tags": []
          },
          "execution_count": 24
        }
      ]
    },
    {
      "cell_type": "markdown",
      "metadata": {
        "id": "kWKNIt-egY0h"
      },
      "source": [
        "doesn't save the model class"
      ]
    },
    {
      "cell_type": "code",
      "metadata": {
        "id": "I0VzuaNrStu0"
      },
      "source": [
        "torch.save(model,'customer_buy.pt')"
      ],
      "execution_count": null,
      "outputs": []
    },
    {
      "cell_type": "code",
      "metadata": {
        "id": "lsrrJiX1TDZF",
        "outputId": "42fe5a06-31a1-4602-ee75-f2adb5e18cc7",
        "colab": {
          "base_uri": "https://localhost:8080/",
          "height": 35
        }
      },
      "source": [
        "!ls"
      ],
      "execution_count": null,
      "outputs": [
        {
          "output_type": "stream",
          "text": [
            "customer_buy.pt  sample_data\n"
          ],
          "name": "stdout"
        }
      ]
    },
    {
      "cell_type": "code",
      "metadata": {
        "id": "t3re8L4JTEGL"
      },
      "source": [
        "restored_model = torch.load('customer_buy.pt')"
      ],
      "execution_count": null,
      "outputs": []
    },
    {
      "cell_type": "code",
      "metadata": {
        "id": "xqc-j_SSTPzo",
        "outputId": "6766237f-055b-4cbb-d9cd-268a0e20fc10",
        "colab": {
          "base_uri": "https://localhost:8080/",
          "height": 35
        }
      },
      "source": [
        "y_cust_20_40000 = restored_model(torch.from_numpy(sc.transform(np.array([[40,20000]]))).float())\n",
        "y_cust_20_40000"
      ],
      "execution_count": null,
      "outputs": [
        {
          "output_type": "execute_result",
          "data": {
            "text/plain": [
              "tensor([[-0.0480, -3.0606]], grad_fn=<LogSoftmaxBackward>)"
            ]
          },
          "metadata": {
            "tags": []
          },
          "execution_count": 28
        }
      ]
    },
    {
      "cell_type": "code",
      "metadata": {
        "id": "L5ySKmFnYAaw",
        "outputId": "9f828e20-4727-40b7-9ee6-dd69adaeee66",
        "colab": {
          "base_uri": "https://localhost:8080/",
          "height": 35
        }
      },
      "source": [
        "_, predicted_20_40000 = torch.max(y_cust_20_40000.data,-1)\n",
        "predicted_20_40000"
      ],
      "execution_count": null,
      "outputs": [
        {
          "output_type": "execute_result",
          "data": {
            "text/plain": [
              "tensor([0])"
            ]
          },
          "metadata": {
            "tags": []
          },
          "execution_count": 29
        }
      ]
    },
    {
      "cell_type": "code",
      "metadata": {
        "id": "UoK5lRweWa6a",
        "outputId": "cb0e070b-2554-46f0-c347-48f3f55328b8",
        "colab": {
          "base_uri": "https://localhost:8080/",
          "height": 35
        }
      },
      "source": [
        "y_cust_42_50000 = restored_model(torch.from_numpy(sc.transform(np.array([[42,50000]]))).float())\n",
        "y_cust_42_50000"
      ],
      "execution_count": null,
      "outputs": [
        {
          "output_type": "execute_result",
          "data": {
            "text/plain": [
              "tensor([[-1.5621, -0.2353]], grad_fn=<LogSoftmaxBackward>)"
            ]
          },
          "metadata": {
            "tags": []
          },
          "execution_count": 30
        }
      ]
    },
    {
      "cell_type": "code",
      "metadata": {
        "id": "YW3E7wd9Wgf7",
        "outputId": "fc191478-2ee4-40ea-e305-fb24605d7afe",
        "colab": {
          "base_uri": "https://localhost:8080/",
          "height": 35
        }
      },
      "source": [
        "_, predicted_42_50000 = torch.max(y_cust_42_50000.data,-1)\n",
        "predicted_42_50000"
      ],
      "execution_count": null,
      "outputs": [
        {
          "output_type": "execute_result",
          "data": {
            "text/plain": [
              "tensor([1])"
            ]
          },
          "metadata": {
            "tags": []
          },
          "execution_count": 31
        }
      ]
    },
    {
      "cell_type": "markdown",
      "metadata": {
        "id": "cby1vVVcgUlR"
      },
      "source": [
        ""
      ]
    },
    {
      "cell_type": "code",
      "metadata": {
        "id": "j_MJrmZLYH0j",
        "outputId": "230c39d0-f1da-4830-e255-09d2566d4dd7",
        "colab": {
          "base_uri": "https://localhost:8080/",
          "height": 763
        }
      },
      "source": [
        "model.state_dict()"
      ],
      "execution_count": null,
      "outputs": [
        {
          "output_type": "execute_result",
          "data": {
            "text/plain": [
              "OrderedDict([('fc1.weight', tensor([[ 0.1528,  1.1299],\n",
              "                      [-1.3217, -1.2464],\n",
              "                      [ 0.9343,  1.5205],\n",
              "                      [ 0.8340,  1.5981],\n",
              "                      [ 1.1413,  0.3927],\n",
              "                      [-0.9755, -0.6465],\n",
              "                      [-1.0519, -1.1970],\n",
              "                      [-1.3397, -0.6035],\n",
              "                      [-0.8232, -1.4804],\n",
              "                      [-0.1030, -1.4247]])),\n",
              "             ('fc1.bias',\n",
              "              tensor([-0.0473,  0.1453, -0.2659, -0.2591, -0.2823,  0.2346,  0.1407,  0.2148,\n",
              "                       0.2586,  0.0946])),\n",
              "             ('fc2.weight',\n",
              "              tensor([[ 1.0649, -0.9615,  0.6178,  0.8507,  0.4290, -0.7251, -0.6516, -0.6319,\n",
              "                       -0.7880, -0.8869],\n",
              "                      [ 0.4954, -0.6788,  0.5989,  0.7300,  0.2990, -0.5910, -0.6517, -0.8506,\n",
              "                       -0.6689, -0.7390],\n",
              "                      [ 0.5259, -0.6031,  0.5900,  0.4257,  0.3482, -0.3278, -0.8952, -0.7045,\n",
              "                       -0.8022, -0.4769],\n",
              "                      [ 0.6720, -0.5637,  0.6571,  0.9568,  0.5646, -0.5459, -0.8427, -0.8755,\n",
              "                       -0.5685, -0.8071],\n",
              "                      [ 0.4090, -0.8782,  0.7230,  0.8878,  0.6911, -0.8570, -0.6420, -0.9949,\n",
              "                       -0.6547, -1.0679],\n",
              "                      [ 1.1189, -0.8560,  0.8169,  0.8123,  0.5602, -0.6819, -0.8980, -0.8792,\n",
              "                       -0.4975, -1.0195],\n",
              "                      [-0.4605,  0.8978, -0.8565, -0.9323, -0.6809,  0.8157,  0.5827,  0.4171,\n",
              "                        0.9723,  0.5971],\n",
              "                      [-0.9025,  0.7759, -0.9729, -0.5422, -0.4520,  0.7136,  0.8899,  0.7791,\n",
              "                        1.0102,  0.8830],\n",
              "                      [-0.5912,  1.0443, -1.0297, -0.9363, -0.6852,  0.6443,  0.5544,  0.5355,\n",
              "                        0.5443,  0.7072],\n",
              "                      [ 0.3405, -0.5314,  0.5400,  1.0709,  0.6544, -0.5349, -0.4686, -0.3247,\n",
              "                       -0.9196, -0.7460]])),\n",
              "             ('fc2.bias',\n",
              "              tensor([ 0.2728,  0.6118,  0.3213,  0.1233,  0.6340,  0.2447, -0.1633, -0.6014,\n",
              "                       0.0439,  0.1184])),\n",
              "             ('fc3.weight',\n",
              "              tensor([[-0.6332, -0.6454, -0.9087, -0.6098, -0.8094, -0.3476,  0.6661,  0.6539,\n",
              "                        0.5378, -0.4746],\n",
              "                      [ 0.4659,  0.4209,  0.9234,  0.9275,  0.3157,  0.8946, -0.7639, -0.3586,\n",
              "                       -0.5599,  0.6247]])),\n",
              "             ('fc3.bias', tensor([-0.1016, -0.2015]))])"
            ]
          },
          "metadata": {
            "tags": []
          },
          "execution_count": 32
        }
      ]
    },
    {
      "cell_type": "code",
      "metadata": {
        "id": "rhYmBExDYbQS",
        "outputId": "754c103a-eae2-4ec8-c76f-ad77a2f6f610",
        "colab": {
          "base_uri": "https://localhost:8080/",
          "height": 1000
        }
      },
      "source": [
        "optimizer.state_dict()"
      ],
      "execution_count": null,
      "outputs": [
        {
          "output_type": "execute_result",
          "data": {
            "text/plain": [
              "{'param_groups': [{'amsgrad': False,\n",
              "   'betas': (0.9, 0.999),\n",
              "   'eps': 1e-08,\n",
              "   'lr': 0.01,\n",
              "   'params': [0, 1, 2, 3, 4, 5],\n",
              "   'weight_decay': 0}],\n",
              " 'state': {0: {'exp_avg': tensor([[ 2.1298e-04, -3.2874e-03],\n",
              "           [-1.7683e-04,  5.0524e-03],\n",
              "           [-1.6823e-04, -4.5844e-03],\n",
              "           [-2.5593e-04, -4.9523e-03],\n",
              "           [ 3.1286e-04, -3.3148e-03],\n",
              "           [-2.5009e-04,  3.9614e-03],\n",
              "           [-6.3593e-05,  4.5839e-03],\n",
              "           [-3.8099e-04,  4.5943e-03],\n",
              "           [ 1.8829e-04,  4.5881e-03],\n",
              "           [-7.3209e-05,  3.8789e-03]]),\n",
              "   'exp_avg_sq': tensor([[9.2455e-07, 1.3341e-06],\n",
              "           [4.1795e-06, 6.0253e-06],\n",
              "           [3.6355e-06, 4.2908e-06],\n",
              "           [5.0300e-06, 5.3648e-06],\n",
              "           [1.1294e-06, 1.9572e-06],\n",
              "           [3.4590e-06, 4.5680e-06],\n",
              "           [4.6408e-06, 5.6592e-06],\n",
              "           [5.3616e-06, 7.3035e-06],\n",
              "           [5.3601e-06, 5.5138e-06],\n",
              "           [1.3435e-06, 1.8354e-06]]),\n",
              "   'step': 100},\n",
              "  1: {'exp_avg': tensor([ 0.0002, -0.0007,  0.0001,  0.0002,  0.0003, -0.0002, -0.0005, -0.0005,\n",
              "           -0.0002, -0.0004]),\n",
              "   'exp_avg_sq': tensor([7.3257e-09, 2.7626e-07, 4.0023e-08, 6.0846e-08, 1.2238e-08, 1.2621e-08,\n",
              "           1.3385e-07, 6.2264e-08, 3.9152e-08, 3.2622e-08]),\n",
              "   'step': 100},\n",
              "  2: {'exp_avg': tensor([[-6.2707e-04,  4.3464e-04, -8.5090e-04, -8.9163e-04, -2.2834e-04,\n",
              "             1.1068e-04,  4.1110e-04,  8.0794e-05,  5.6090e-04,  4.9787e-04],\n",
              "           [-4.0586e-04,  5.0044e-04, -6.2572e-04, -6.6622e-04, -5.3662e-07,\n",
              "             1.9507e-04,  4.7983e-04,  1.5075e-04,  6.4816e-04,  5.8685e-04],\n",
              "           [-1.0207e-03,  5.7074e-04, -1.3827e-03, -1.4500e-03, -3.3002e-04,\n",
              "             3.2575e-05,  5.2990e-04, -2.5613e-05,  7.9033e-04,  6.8822e-04],\n",
              "           [-8.3062e-04,  6.8551e-04, -1.1686e-03, -1.2281e-03, -2.5061e-04,\n",
              "             2.1207e-04,  6.5050e-04,  1.6735e-04,  8.7582e-04,  7.7430e-04],\n",
              "           [-6.2410e-04,  4.9344e-04, -8.5688e-04, -9.0054e-04, -2.0196e-04,\n",
              "             1.5721e-04,  4.7152e-04,  1.2360e-04,  6.3124e-04,  5.6859e-04],\n",
              "           [-6.9006e-04,  5.8780e-04, -9.6281e-04, -1.0116e-03, -2.2495e-04,\n",
              "             2.0550e-04,  5.6114e-04,  1.7100e-04,  7.4005e-04,  6.6056e-04],\n",
              "           [ 8.1339e-04, -6.8105e-04,  1.1423e-03,  1.2016e-03,  2.4118e-04,\n",
              "            -2.1833e-04, -6.4886e-04, -1.7407e-04, -8.7003e-04, -7.7330e-04],\n",
              "           [ 5.8369e-04, -5.1630e-04,  8.2232e-04,  8.6494e-04,  1.7785e-04,\n",
              "            -1.8415e-04, -4.9334e-04, -1.5331e-04, -6.5085e-04, -5.8040e-04],\n",
              "           [ 5.5337e-04, -6.0041e-04,  8.1497e-04,  8.6178e-04,  1.0500e-04,\n",
              "            -2.4241e-04, -5.7635e-04, -2.0311e-04, -7.5712e-04, -6.7969e-04],\n",
              "           [-4.0885e-04,  5.1891e-04, -6.4226e-04, -6.8428e-04,  1.1734e-05,\n",
              "             1.9907e-04,  4.9625e-04,  1.5330e-04,  6.7305e-04,  6.0468e-04]]),\n",
              "   'exp_avg_sq': tensor([[7.8304e-08, 1.9966e-07, 3.8247e-07, 3.8691e-07, 8.3536e-08, 3.1035e-08,\n",
              "            1.4244e-07, 8.6871e-08, 1.5959e-07, 1.9759e-08],\n",
              "           [4.8997e-08, 3.3345e-07, 3.7835e-07, 3.8294e-07, 6.3505e-08, 6.3128e-08,\n",
              "            2.3815e-07, 1.6107e-07, 2.7396e-07, 3.6087e-08],\n",
              "           [1.1998e-06, 3.8929e-06, 7.7987e-06, 7.8299e-06, 1.3692e-06, 2.9883e-07,\n",
              "            2.4700e-06, 1.3700e-06, 2.7381e-06, 1.1047e-07],\n",
              "           [3.6011e-07, 3.0210e-06, 3.9109e-06, 3.9349e-06, 5.3103e-07, 3.9815e-07,\n",
              "            2.0349e-06, 1.2986e-06, 2.2907e-06, 1.4906e-07],\n",
              "           [7.9473e-08, 3.8270e-07, 5.6938e-07, 5.7512e-07, 1.0345e-07, 6.8705e-08,\n",
              "            2.7715e-07, 1.7461e-07, 3.0843e-07, 4.1031e-08],\n",
              "           [7.9794e-08, 1.0341e-06, 1.0275e-06, 1.0367e-06, 1.3889e-07, 2.0212e-07,\n",
              "            7.4254e-07, 5.1541e-07, 8.3563e-07, 8.8041e-08],\n",
              "           [4.0886e-07, 4.1515e-06, 4.6853e-06, 4.7174e-06, 5.5299e-07, 5.9941e-07,\n",
              "            2.8007e-06, 1.8534e-06, 3.1912e-06, 2.1294e-07],\n",
              "           [7.3763e-08, 8.2445e-07, 8.3714e-07, 8.4437e-07, 1.1864e-07, 1.7800e-07,\n",
              "            6.0209e-07, 4.1963e-07, 6.7036e-07, 7.9155e-08],\n",
              "           [8.0882e-08, 1.4137e-06, 7.6375e-07, 7.7403e-07, 7.5617e-08, 4.1450e-07,\n",
              "            1.0719e-06, 8.4640e-07, 1.2190e-06, 1.7083e-07],\n",
              "           [5.1361e-08, 9.6894e-07, 6.7060e-07, 6.7827e-07, 6.7951e-08, 2.2191e-07,\n",
              "            6.9906e-07, 5.2379e-07, 8.0413e-07, 9.0871e-08]]),\n",
              "   'step': 100},\n",
              "  3: {'exp_avg': tensor([-2.7050e-04,  4.2648e-05, -5.5865e-04, -2.6379e-04, -2.0638e-04,\n",
              "           -2.0031e-04,  2.4526e-04,  1.5208e-04,  3.6415e-05,  5.2406e-05]),\n",
              "   'exp_avg_sq': tensor([4.9527e-08, 2.2483e-08, 1.4868e-06, 3.1940e-07, 3.7874e-08, 3.0665e-08,\n",
              "           3.7196e-07, 2.3880e-08, 1.2853e-07, 5.3184e-08]),\n",
              "   'step': 100},\n",
              "  4: {'exp_avg': tensor([[ 0.0031,  0.0025,  0.0023,  0.0029,  0.0030,  0.0033,  0.0029,  0.0027,\n",
              "             0.0030,  0.0026],\n",
              "           [-0.0031, -0.0025, -0.0023, -0.0029, -0.0030, -0.0033, -0.0029, -0.0027,\n",
              "            -0.0030, -0.0026]]),\n",
              "   'exp_avg_sq': tensor([[1.2381e-05, 9.7776e-06, 1.4793e-05, 2.9038e-05, 2.0651e-05, 3.0257e-05,\n",
              "            6.6569e-05, 4.5236e-05, 3.5766e-05, 1.6373e-05],\n",
              "           [1.2381e-05, 9.7776e-06, 1.4793e-05, 2.9038e-05, 2.0651e-05, 3.0257e-05,\n",
              "            6.6569e-05, 4.5236e-05, 3.5766e-05, 1.6373e-05]]),\n",
              "   'step': 100},\n",
              "  5: {'exp_avg': tensor([ 0.0060, -0.0060]),\n",
              "   'exp_avg_sq': tensor([2.2380e-05, 2.2380e-05]),\n",
              "   'step': 100}}}"
            ]
          },
          "metadata": {
            "tags": []
          },
          "execution_count": 33
        }
      ]
    },
    {
      "cell_type": "code",
      "metadata": {
        "id": "QWQrBXK-YlXb"
      },
      "source": [
        "torch.save(model.state_dict(),'customer_buy_state_dict')"
      ],
      "execution_count": null,
      "outputs": []
    },
    {
      "cell_type": "code",
      "metadata": {
        "id": "KaPlxqH8Y0RI",
        "outputId": "6158191c-79c5-4283-f298-6982bdfc375c",
        "colab": {
          "base_uri": "https://localhost:8080/",
          "height": 35
        }
      },
      "source": [
        "!ls"
      ],
      "execution_count": null,
      "outputs": [
        {
          "output_type": "stream",
          "text": [
            "customer_buy.pt  customer_buy_state_dict  sample_data\n"
          ],
          "name": "stdout"
        }
      ]
    },
    {
      "cell_type": "code",
      "metadata": {
        "id": "LyzySw6BY3VA"
      },
      "source": [
        "new_predictor = Net()"
      ],
      "execution_count": null,
      "outputs": []
    },
    {
      "cell_type": "code",
      "metadata": {
        "id": "BVHtBswUZAwH",
        "outputId": "28a42ae1-3887-463a-9d5d-bcbc82187758",
        "colab": {
          "base_uri": "https://localhost:8080/",
          "height": 35
        }
      },
      "source": [
        ""
      ],
      "execution_count": null,
      "outputs": [
        {
          "output_type": "execute_result",
          "data": {
            "text/plain": [
              "<All keys matched successfully>"
            ]
          },
          "metadata": {
            "tags": []
          },
          "execution_count": 42
        }
      ]
    },
    {
      "cell_type": "code",
      "metadata": {
        "id": "RMKQbQRhazyq",
        "outputId": "dc65a779-1b7f-4aec-a9fa-31df2ef99c01",
        "colab": {
          "base_uri": "https://localhost:8080/",
          "height": 35
        }
      },
      "source": [
        "y_cust_20_40000 = new_predictor(torch.from_numpy(sc.transform(np.array([[40,20000]]))).float())\n",
        "y_cust_20_40000"
      ],
      "execution_count": null,
      "outputs": [
        {
          "output_type": "execute_result",
          "data": {
            "text/plain": [
              "tensor([[-0.0480, -3.0606]], grad_fn=<LogSoftmaxBackward>)"
            ]
          },
          "metadata": {
            "tags": []
          },
          "execution_count": 43
        }
      ]
    },
    {
      "cell_type": "code",
      "metadata": {
        "id": "oa-kcvOSZHl0",
        "outputId": "2a78e1f4-0c63-4941-c4b5-26c98844de4c",
        "colab": {
          "base_uri": "https://localhost:8080/",
          "height": 35
        }
      },
      "source": [
        "y_cust_42_50000 = new_predictor(torch.from_numpy(sc.transform(np.array([[42,50000]]))).float())\n",
        "y_cust_42_50000"
      ],
      "execution_count": null,
      "outputs": [
        {
          "output_type": "execute_result",
          "data": {
            "text/plain": [
              "tensor([[-1.5621, -0.2353]], grad_fn=<LogSoftmaxBackward>)"
            ]
          },
          "metadata": {
            "tags": []
          },
          "execution_count": 44
        }
      ]
    },
    {
      "cell_type": "code",
      "metadata": {
        "id": "CYMKj4V_Jvpd",
        "outputId": "7e3cb21a-04f0-475e-833a-314afec54d6e",
        "colab": {
          "base_uri": "https://localhost:8080/",
          "height": 35
        }
      },
      "source": [
        "!ls"
      ],
      "execution_count": null,
      "outputs": [
        {
          "output_type": "stream",
          "text": [
            "customer_buy.pt  customer_buy_state_dict  sample_data\n"
          ],
          "name": "stdout"
        }
      ]
    },
    {
      "cell_type": "code",
      "metadata": {
        "id": "YgpC-czVKP3Y",
        "outputId": "efa2d143-4a43-4561-ff6a-b57c943b2ac0",
        "colab": {
          "base_uri": "https://localhost:8080/",
          "height": 35
        }
      },
      "source": [
        "!zip -r customer_buy_state_dict.zip customer_buy_state_dict"
      ],
      "execution_count": null,
      "outputs": [
        {
          "output_type": "stream",
          "text": [
            "  adding: customer_buy_state_dict (deflated 48%)\n"
          ],
          "name": "stdout"
        }
      ]
    },
    {
      "cell_type": "code",
      "metadata": {
        "id": "gC5BDiR_KUtF",
        "outputId": "b4981e9b-7a5d-4473-8230-48385eb827cb",
        "colab": {
          "base_uri": "https://localhost:8080/",
          "height": 52
        }
      },
      "source": [
        "!ls\n"
      ],
      "execution_count": null,
      "outputs": [
        {
          "output_type": "stream",
          "text": [
            "customer_buy.pt\t\t customer_buy_state_dict.zip\n",
            "customer_buy_state_dict  sample_data\n"
          ],
          "name": "stdout"
        }
      ]
    },
    {
      "cell_type": "code",
      "metadata": {
        "id": "W2ORVKF8KWPk"
      },
      "source": [
        "from google.colab import files\n"
      ],
      "execution_count": null,
      "outputs": []
    },
    {
      "cell_type": "code",
      "metadata": {
        "id": "99f9smnzKZj0",
        "outputId": "1d760605-3b86-4e54-c42f-5af0e511ce34",
        "colab": {
          "base_uri": "https://localhost:8080/",
          "height": 17
        }
      },
      "source": [
        "files.download('customer_buy_state_dict.zip')"
      ],
      "execution_count": null,
      "outputs": [
        {
          "output_type": "display_data",
          "data": {
            "application/javascript": [
              "\n",
              "    async function download(id, filename, size) {\n",
              "      if (!google.colab.kernel.accessAllowed) {\n",
              "        return;\n",
              "      }\n",
              "      const div = document.createElement('div');\n",
              "      const label = document.createElement('label');\n",
              "      label.textContent = `Downloading \"${filename}\": `;\n",
              "      div.appendChild(label);\n",
              "      const progress = document.createElement('progress');\n",
              "      progress.max = size;\n",
              "      div.appendChild(progress);\n",
              "      document.body.appendChild(div);\n",
              "\n",
              "      const buffers = [];\n",
              "      let downloaded = 0;\n",
              "\n",
              "      const channel = await google.colab.kernel.comms.open(id);\n",
              "      // Send a message to notify the kernel that we're ready.\n",
              "      channel.send({})\n",
              "\n",
              "      for await (const message of channel.messages) {\n",
              "        // Send a message to notify the kernel that we're ready.\n",
              "        channel.send({})\n",
              "        if (message.buffers) {\n",
              "          for (const buffer of message.buffers) {\n",
              "            buffers.push(buffer);\n",
              "            downloaded += buffer.byteLength;\n",
              "            progress.value = downloaded;\n",
              "          }\n",
              "        }\n",
              "      }\n",
              "      const blob = new Blob(buffers, {type: 'application/binary'});\n",
              "      const a = document.createElement('a');\n",
              "      a.href = window.URL.createObjectURL(blob);\n",
              "      a.download = filename;\n",
              "      div.appendChild(a);\n",
              "      a.click();\n",
              "      div.remove();\n",
              "    }\n",
              "  "
            ],
            "text/plain": [
              "<IPython.core.display.Javascript object>"
            ]
          },
          "metadata": {
            "tags": []
          }
        },
        {
          "output_type": "display_data",
          "data": {
            "application/javascript": [
              "download(\"download_447ca27b-34db-4b50-b4a2-fbf122f4a62e\", \"customer_buy_state_dict.zip\", 1632)"
            ],
            "text/plain": [
              "<IPython.core.display.Javascript object>"
            ]
          },
          "metadata": {
            "tags": []
          }
        }
      ]
    },
    {
      "cell_type": "code",
      "metadata": {
        "id": "YLGrhW6vKdRW"
      },
      "source": [
        ""
      ],
      "execution_count": null,
      "outputs": []
    }
  ]
}