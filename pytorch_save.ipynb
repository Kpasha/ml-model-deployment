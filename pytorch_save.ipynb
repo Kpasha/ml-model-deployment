{
  "nbformat": 4,
  "nbformat_minor": 0,
  "metadata": {
    "colab": {
      "name": "pytorch_save.ipynb",
      "provenance": [],
      "collapsed_sections": [],
      "authorship_tag": "ABX9TyN9iH+zTRCDa+XyvuH7fpEV",
      "include_colab_link": true
    },
    "kernelspec": {
      "name": "python3",
      "display_name": "Python 3"
    }
  },
  "cells": [
    {
      "cell_type": "markdown",
      "metadata": {
        "id": "view-in-github",
        "colab_type": "text"
      },
      "source": [
        "<a href=\"https://colab.research.google.com/github/futurexskill/ml-model-deployment/blob/main/pytorch_save.ipynb\" target=\"_parent\"><img src=\"https://colab.research.google.com/assets/colab-badge.svg\" alt=\"Open In Colab\"/></a>"
      ]
    },
    {
      "cell_type": "code",
      "metadata": {
        "id": "7DGB8CHJscTD"
      },
      "source": [
        "import torch\n",
        "import torch.nn as nn\n",
        "from torch.nn import functional as F\n",
        "\n",
        "import pandas as pd\n",
        "import numpy as np"
      ],
      "execution_count": 39,
      "outputs": []
    },
    {
      "cell_type": "code",
      "metadata": {
        "id": "DyRtQo-WtiC8"
      },
      "source": [
        "dataset = pd.read_csv('https://raw.githubusercontent.com/futurexskill/ml-model-deployment/main/storepurchasedata.csv')"
      ],
      "execution_count": 40,
      "outputs": []
    },
    {
      "cell_type": "code",
      "metadata": {
        "id": "VZO6l0sKtxgR",
        "outputId": "ea3d57b5-7c38-4bef-ded5-91cc6d91409f",
        "colab": {
          "base_uri": "https://localhost:8080/",
          "height": 141
        }
      },
      "source": [
        "dataset.sample(3)"
      ],
      "execution_count": 41,
      "outputs": [
        {
          "output_type": "execute_result",
          "data": {
            "text/html": [
              "<div>\n",
              "<style scoped>\n",
              "    .dataframe tbody tr th:only-of-type {\n",
              "        vertical-align: middle;\n",
              "    }\n",
              "\n",
              "    .dataframe tbody tr th {\n",
              "        vertical-align: top;\n",
              "    }\n",
              "\n",
              "    .dataframe thead th {\n",
              "        text-align: right;\n",
              "    }\n",
              "</style>\n",
              "<table border=\"1\" class=\"dataframe\">\n",
              "  <thead>\n",
              "    <tr style=\"text-align: right;\">\n",
              "      <th></th>\n",
              "      <th>Age</th>\n",
              "      <th>Salary</th>\n",
              "      <th>Purchased</th>\n",
              "    </tr>\n",
              "  </thead>\n",
              "  <tbody>\n",
              "    <tr>\n",
              "      <th>29</th>\n",
              "      <td>47</td>\n",
              "      <td>55000</td>\n",
              "      <td>1</td>\n",
              "    </tr>\n",
              "    <tr>\n",
              "      <th>9</th>\n",
              "      <td>27</td>\n",
              "      <td>37000</td>\n",
              "      <td>0</td>\n",
              "    </tr>\n",
              "    <tr>\n",
              "      <th>35</th>\n",
              "      <td>56</td>\n",
              "      <td>45000</td>\n",
              "      <td>1</td>\n",
              "    </tr>\n",
              "  </tbody>\n",
              "</table>\n",
              "</div>"
            ],
            "text/plain": [
              "    Age  Salary  Purchased\n",
              "29   47   55000          1\n",
              "9    27   37000          0\n",
              "35   56   45000          1"
            ]
          },
          "metadata": {
            "tags": []
          },
          "execution_count": 41
        }
      ]
    },
    {
      "cell_type": "code",
      "metadata": {
        "id": "PbUXjSZRw4vS"
      },
      "source": [
        "X = dataset.iloc[:, :-1].values\n",
        "y = dataset.iloc[:,-1].values"
      ],
      "execution_count": 42,
      "outputs": []
    },
    {
      "cell_type": "code",
      "metadata": {
        "id": "8OLx7mSEw9L2"
      },
      "source": [
        "from sklearn.model_selection import train_test_split\n",
        "X_train, X_test, y_train, y_test = train_test_split(X, y, test_size =.20,random_state=0)"
      ],
      "execution_count": 43,
      "outputs": []
    },
    {
      "cell_type": "code",
      "metadata": {
        "id": "kEudglkYutdV"
      },
      "source": [
        "from sklearn.preprocessing import StandardScaler\n",
        "sc = StandardScaler()\n",
        "X_train = sc.fit_transform(X_train)\n",
        "X_test = sc.transform(X_test)"
      ],
      "execution_count": 44,
      "outputs": []
    },
    {
      "cell_type": "code",
      "metadata": {
        "id": "TQ9CJjx-u1Xb"
      },
      "source": [
        "Xtrain_ = torch.from_numpy(X_train).float()\n",
        "Xtest_ = torch.from_numpy(X_test).float()\n"
      ],
      "execution_count": 78,
      "outputs": []
    },
    {
      "cell_type": "code",
      "metadata": {
        "id": "WAlYfRHnwWTw"
      },
      "source": [
        "ytrain_ = torch.from_numpy(y_train)\n",
        "ytest_ = torch.from_numpy(y_test)"
      ],
      "execution_count": 110,
      "outputs": []
    },
    {
      "cell_type": "code",
      "metadata": {
        "id": "m7r-ocJdJ2Ft",
        "outputId": "85eb1b87-bf69-42ec-ec0a-42656c327f4b",
        "colab": {
          "base_uri": "https://localhost:8080/",
          "height": 35
        }
      },
      "source": [
        "Xtrain_.shape, ytrain_.shape"
      ],
      "execution_count": 111,
      "outputs": [
        {
          "output_type": "execute_result",
          "data": {
            "text/plain": [
              "(torch.Size([32, 2]), torch.Size([32]))"
            ]
          },
          "metadata": {
            "tags": []
          },
          "execution_count": 111
        }
      ]
    },
    {
      "cell_type": "code",
      "metadata": {
        "id": "tIUikalVyNQ1",
        "outputId": "e6a46bd5-565f-4087-bea0-27abe5510afb",
        "colab": {
          "base_uri": "https://localhost:8080/",
          "height": 35
        }
      },
      "source": [
        "Xtest_.shape, ytest_.shape"
      ],
      "execution_count": 112,
      "outputs": [
        {
          "output_type": "execute_result",
          "data": {
            "text/plain": [
              "(torch.Size([8, 2]), torch.Size([8]))"
            ]
          },
          "metadata": {
            "tags": []
          },
          "execution_count": 112
        }
      ]
    },
    {
      "cell_type": "code",
      "metadata": {
        "id": "SUtJL0cPyQe9"
      },
      "source": [
        "input_size=2\n",
        "output_size=2\n",
        "hidden_size=10"
      ],
      "execution_count": 113,
      "outputs": []
    },
    {
      "cell_type": "code",
      "metadata": {
        "id": "adaskl1LKIog"
      },
      "source": [
        "class Net(nn.Module):\n",
        "   def __init__(self):\n",
        "       super(Net, self).__init__()\n",
        "       self.fc1 = torch.nn.Linear(input_size, hidden_size)\n",
        "       self.fc2 = torch.nn.Linear(hidden_size, hidden_size)\n",
        "       self.fc3 = torch.nn.Linear(hidden_size, output_size)\n",
        "\n",
        "\n",
        "   def forward(self, X):\n",
        "       X = torch.sigmoid((self.fc1(X)))\n",
        "       X = torch.sigmoid((self.fc2(X)))\n",
        "       X = self.fc3(X)\n",
        "\n",
        "       return F.log_softmax(X,dim=1)"
      ],
      "execution_count": 114,
      "outputs": []
    },
    {
      "cell_type": "code",
      "metadata": {
        "id": "YfKP2fPYLg8X"
      },
      "source": [
        "model = Net()\n",
        "\n"
      ],
      "execution_count": 115,
      "outputs": []
    },
    {
      "cell_type": "code",
      "metadata": {
        "id": "PMAh6P9VLriY"
      },
      "source": [
        "import torch.optim as optim\n",
        "optimizer = torch.optim.Adam(model.parameters(), lr=0.01)\n",
        "loss_fn = nn.NLLLoss()"
      ],
      "execution_count": 116,
      "outputs": []
    },
    {
      "cell_type": "code",
      "metadata": {
        "id": "JLVDAcNUME6Q"
      },
      "source": [
        "epochs = 100\n"
      ],
      "execution_count": 117,
      "outputs": []
    },
    {
      "cell_type": "code",
      "metadata": {
        "id": "rMvebmHdM8L7",
        "outputId": "5c5ede10-b6b6-4337-a766-1fcd5ba0279c",
        "colab": {
          "base_uri": "https://localhost:8080/",
          "height": 1000
        }
      },
      "source": [
        "for epoch in range(epochs):\n",
        "  optimizer.zero_grad()\n",
        "  Ypred = model(Xtrain_)\n",
        "  loss = loss_fn(Ypred,  ytrain_)\n",
        "  loss.backward()\n",
        "  optimizer.step()\n",
        "  print('Epoch',epoch, 'loss',loss.item())"
      ],
      "execution_count": 120,
      "outputs": [
        {
          "output_type": "stream",
          "text": [
            "Epoch 0 loss 0.17851537466049194\n",
            "Epoch 1 loss 0.17786383628845215\n",
            "Epoch 2 loss 0.17722702026367188\n",
            "Epoch 3 loss 0.1766042858362198\n",
            "Epoch 4 loss 0.17599530518054962\n",
            "Epoch 5 loss 0.17539963126182556\n",
            "Epoch 6 loss 0.17481674253940582\n",
            "Epoch 7 loss 0.1742464303970337\n",
            "Epoch 8 loss 0.17368806898593903\n",
            "Epoch 9 loss 0.1731412559747696\n",
            "Epoch 10 loss 0.17260535061359406\n",
            "Epoch 11 loss 0.17207981646060944\n",
            "Epoch 12 loss 0.17156410217285156\n",
            "Epoch 13 loss 0.17105767130851746\n",
            "Epoch 14 loss 0.1705600917339325\n",
            "Epoch 15 loss 0.17007090151309967\n",
            "Epoch 16 loss 0.16958971321582794\n",
            "Epoch 17 loss 0.16911616921424866\n",
            "Epoch 18 loss 0.16864977777004242\n",
            "Epoch 19 loss 0.16819028556346893\n",
            "Epoch 20 loss 0.16773726046085358\n",
            "Epoch 21 loss 0.16729041934013367\n",
            "Epoch 22 loss 0.16684935986995697\n",
            "Epoch 23 loss 0.16641390323638916\n",
            "Epoch 24 loss 0.16598378121852875\n",
            "Epoch 25 loss 0.16555877029895782\n",
            "Epoch 26 loss 0.16513869166374207\n",
            "Epoch 27 loss 0.16472342610359192\n",
            "Epoch 28 loss 0.16431273519992828\n",
            "Epoch 29 loss 0.1639064997434616\n",
            "Epoch 30 loss 0.16350463032722473\n",
            "Epoch 31 loss 0.1631069928407669\n",
            "Epoch 32 loss 0.1627134531736374\n",
            "Epoch 33 loss 0.1623239517211914\n",
            "Epoch 34 loss 0.1619383990764618\n",
            "Epoch 35 loss 0.16155682504177094\n",
            "Epoch 36 loss 0.1611790508031845\n",
            "Epoch 37 loss 0.1608051061630249\n",
            "Epoch 38 loss 0.16043484210968018\n",
            "Epoch 39 loss 0.1600683033466339\n",
            "Epoch 40 loss 0.15970538556575775\n",
            "Epoch 41 loss 0.15934599936008453\n",
            "Epoch 42 loss 0.15899012982845306\n",
            "Epoch 43 loss 0.15863774716854095\n",
            "Epoch 44 loss 0.15828876197338104\n",
            "Epoch 45 loss 0.1579432189464569\n",
            "Epoch 46 loss 0.15760093927383423\n",
            "Epoch 47 loss 0.1572619527578354\n",
            "Epoch 48 loss 0.15692616999149323\n",
            "Epoch 49 loss 0.15659362077713013\n",
            "Epoch 50 loss 0.15626420080661774\n",
            "Epoch 51 loss 0.15593785047531128\n",
            "Epoch 52 loss 0.15561452507972717\n",
            "Epoch 53 loss 0.15529416501522064\n",
            "Epoch 54 loss 0.15497681498527527\n",
            "Epoch 55 loss 0.1546623706817627\n",
            "Epoch 56 loss 0.1543508619070053\n",
            "Epoch 57 loss 0.1540420651435852\n",
            "Epoch 58 loss 0.15373612940311432\n",
            "Epoch 59 loss 0.1534329205751419\n",
            "Epoch 60 loss 0.15313246846199036\n",
            "Epoch 61 loss 0.1528346985578537\n",
            "Epoch 62 loss 0.15253956615924835\n",
            "Epoch 63 loss 0.15224705636501312\n",
            "Epoch 64 loss 0.15195713937282562\n",
            "Epoch 65 loss 0.15166981518268585\n",
            "Epoch 66 loss 0.15138502418994904\n",
            "Epoch 67 loss 0.1511026918888092\n",
            "Epoch 68 loss 0.15082287788391113\n",
            "Epoch 69 loss 0.15054550766944885\n",
            "Epoch 70 loss 0.15027053654193878\n",
            "Epoch 71 loss 0.14999797940254211\n",
            "Epoch 72 loss 0.14972782135009766\n",
            "Epoch 73 loss 0.14945998787879944\n",
            "Epoch 74 loss 0.14919449388980865\n",
            "Epoch 75 loss 0.1489313244819641\n",
            "Epoch 76 loss 0.14867040514945984\n",
            "Epoch 77 loss 0.1484117954969406\n",
            "Epoch 78 loss 0.14815539121627808\n",
            "Epoch 79 loss 0.14790114760398865\n",
            "Epoch 80 loss 0.14764916896820068\n",
            "Epoch 81 loss 0.14739938080310822\n",
            "Epoch 82 loss 0.14715167880058289\n",
            "Epoch 83 loss 0.14690618216991425\n",
            "Epoch 84 loss 0.14666277170181274\n",
            "Epoch 85 loss 0.1464214324951172\n",
            "Epoch 86 loss 0.14618216454982758\n",
            "Epoch 87 loss 0.1459449976682663\n",
            "Epoch 88 loss 0.1457098424434662\n",
            "Epoch 89 loss 0.14547669887542725\n",
            "Epoch 90 loss 0.14524556696414948\n",
            "Epoch 91 loss 0.14501641690731049\n",
            "Epoch 92 loss 0.14478923380374908\n",
            "Epoch 93 loss 0.1445639580488205\n",
            "Epoch 94 loss 0.14434070885181427\n",
            "Epoch 95 loss 0.14411932229995728\n",
            "Epoch 96 loss 0.1438998132944107\n",
            "Epoch 97 loss 0.14368218183517456\n",
            "Epoch 98 loss 0.14346648752689362\n",
            "Epoch 99 loss 0.14325256645679474\n"
          ],
          "name": "stdout"
        }
      ]
    },
    {
      "cell_type": "code",
      "metadata": {
        "id": "G5UedZ0SNM7x",
        "outputId": "6d3871ab-1827-4b50-a4dc-0c52ea56bef2",
        "colab": {
          "base_uri": "https://localhost:8080/",
          "height": 711
        }
      },
      "source": [
        "list(model.parameters())"
      ],
      "execution_count": 122,
      "outputs": [
        {
          "output_type": "execute_result",
          "data": {
            "text/plain": [
              "[Parameter containing:\n",
              " tensor([[-0.9864, -1.2837],\n",
              "         [ 1.4515,  2.3153],\n",
              "         [-1.1692, -1.9637],\n",
              "         [ 1.3871,  2.1355],\n",
              "         [-1.2228, -1.3740],\n",
              "         [-0.5296, -1.2058],\n",
              "         [-0.6352, -1.9374],\n",
              "         [ 0.8996,  1.6957],\n",
              "         [ 1.2772,  2.2182],\n",
              "         [ 0.8922,  2.2475]], requires_grad=True), Parameter containing:\n",
              " tensor([ 0.6471, -0.4239,  0.4698, -0.4703,  0.6362,  0.5852,  0.4551, -0.4997,\n",
              "         -0.4275, -0.4124], requires_grad=True), Parameter containing:\n",
              " tensor([[-0.6787,  1.0874, -0.9766,  1.0417, -0.6620, -0.5422, -0.9160,  0.5751,\n",
              "           0.7566,  0.7446],\n",
              "         [ 0.7517, -0.8780,  0.8212, -0.8919,  0.6313,  0.8368,  0.5486, -0.8961,\n",
              "          -0.5550, -0.6621],\n",
              "         [-0.7920,  1.0582, -1.0493,  0.8419, -0.9549, -0.2606, -1.0248,  0.9147,\n",
              "           0.9827,  0.8524],\n",
              "         [-1.0450,  1.3990, -1.1639,  1.0068, -0.9116, -1.0928, -1.2452,  1.0440,\n",
              "           1.2732,  1.2376],\n",
              "         [-0.0278, -0.3602,  0.5308, -0.2927,  0.0262,  0.1346, -0.0246, -0.4538,\n",
              "          -0.1470, -0.6132],\n",
              "         [-0.7886,  0.9099, -0.9646,  1.1241, -0.9925, -0.3769, -0.5335,  0.8333,\n",
              "           1.1120,  0.8825],\n",
              "         [ 0.6655, -0.7651,  1.0151, -0.7615,  0.3179,  0.7856,  0.8650, -0.6567,\n",
              "          -0.5758, -0.8199],\n",
              "         [ 1.0434, -1.3330,  0.8852, -1.0998,  0.6677,  1.1022,  0.7024, -0.9950,\n",
              "          -1.2118, -1.3430],\n",
              "         [-0.6705,  1.0592, -1.1760,  1.2234, -0.7494, -1.0157, -1.2048,  0.9812,\n",
              "           1.1671,  1.5940],\n",
              "         [ 0.4245, -0.9760,  0.7521, -0.9222,  1.0004,  0.8482,  1.0934, -0.9794,\n",
              "          -1.2055, -1.2300]], requires_grad=True), Parameter containing:\n",
              " tensor([-0.2605,  0.1545, -0.2273,  0.1079, -0.0642, -0.4572, -0.0374,  0.3624,\n",
              "         -0.2167,  0.4173], requires_grad=True), Parameter containing:\n",
              " tensor([[-0.7879,  0.3693, -1.0029, -0.3507,  0.1662, -0.8317,  0.4517,  0.6432,\n",
              "          -0.9068,  0.5183],\n",
              "         [ 0.6957, -0.2263,  0.8275,  0.8598,  0.3133,  0.8950, -0.2454, -0.4509,\n",
              "           0.4834, -0.3348]], requires_grad=True), Parameter containing:\n",
              " tensor([0.0441, 0.0359], requires_grad=True)]"
            ]
          },
          "metadata": {
            "tags": []
          },
          "execution_count": 122
        }
      ]
    },
    {
      "cell_type": "code",
      "metadata": {
        "id": "iy0VUdHCTxyL",
        "outputId": "d22cea38-f608-46d0-cb9a-8896369a6476",
        "colab": {
          "base_uri": "https://localhost:8080/",
          "height": 35
        }
      },
      "source": [
        "torch.from_numpy(sc.transform(np.array([[40,20000]]))).float()"
      ],
      "execution_count": 128,
      "outputs": [
        {
          "output_type": "execute_result",
          "data": {
            "text/plain": [
              "tensor([[ 0.0829, -1.4975]])"
            ]
          },
          "metadata": {
            "tags": []
          },
          "execution_count": 128
        }
      ]
    },
    {
      "cell_type": "code",
      "metadata": {
        "id": "EtMqaK2pTZ6_",
        "outputId": "6dd5041e-48a5-443c-f9ee-9d27f78e0c22",
        "colab": {
          "base_uri": "https://localhost:8080/",
          "height": 35
        }
      },
      "source": [
        "y_cust_20_40000 = model(torch.from_numpy(sc.transform(np.array([[40,20000]]))).float())\n",
        "y_cust_20_40000"
      ],
      "execution_count": 130,
      "outputs": [
        {
          "output_type": "execute_result",
          "data": {
            "text/plain": [
              "tensor([[-0.0509, -3.0027]], grad_fn=<LogSoftmaxBackward>)"
            ]
          },
          "metadata": {
            "tags": []
          },
          "execution_count": 130
        }
      ]
    },
    {
      "cell_type": "code",
      "metadata": {
        "id": "jq5-DiseXXpt",
        "outputId": "4b1e7e42-71dc-4385-e86a-4c32ca8297a8",
        "colab": {
          "base_uri": "https://localhost:8080/",
          "height": 35
        }
      },
      "source": [
        "_, predicted_20_40000 = torch.max(y_cust_20_40000.data,-1)\n",
        "predicted_20_40000"
      ],
      "execution_count": 140,
      "outputs": [
        {
          "output_type": "execute_result",
          "data": {
            "text/plain": [
              "tensor([0])"
            ]
          },
          "metadata": {
            "tags": []
          },
          "execution_count": 140
        }
      ]
    },
    {
      "cell_type": "code",
      "metadata": {
        "id": "glfI3YXUVIy1",
        "outputId": "5724d464-95bd-475c-9cd7-94d6490bd9db",
        "colab": {
          "base_uri": "https://localhost:8080/",
          "height": 35
        }
      },
      "source": [
        "y_cust_42_50000 = model(torch.from_numpy(sc.transform(np.array([[42,50000]]))).float())\n",
        "y_cust_42_50000"
      ],
      "execution_count": 135,
      "outputs": [
        {
          "output_type": "execute_result",
          "data": {
            "text/plain": [
              "tensor([[-1.8194, -0.1769]], grad_fn=<LogSoftmaxBackward>)"
            ]
          },
          "metadata": {
            "tags": []
          },
          "execution_count": 135
        }
      ]
    },
    {
      "cell_type": "code",
      "metadata": {
        "id": "dN7rzznrXqPa",
        "outputId": "36a555d6-8efe-4717-a6c8-7257fa6f9e3b",
        "colab": {
          "base_uri": "https://localhost:8080/",
          "height": 35
        }
      },
      "source": [
        "_, predicted_42_50000 = torch.max(y_cust_42_50000.data,-1)\n",
        "predicted_42_50000"
      ],
      "execution_count": 142,
      "outputs": [
        {
          "output_type": "execute_result",
          "data": {
            "text/plain": [
              "tensor([1])"
            ]
          },
          "metadata": {
            "tags": []
          },
          "execution_count": 142
        }
      ]
    },
    {
      "cell_type": "code",
      "metadata": {
        "id": "I0VzuaNrStu0"
      },
      "source": [
        "torch.save(model,'customer_buy.pt')"
      ],
      "execution_count": 143,
      "outputs": []
    },
    {
      "cell_type": "code",
      "metadata": {
        "id": "lsrrJiX1TDZF",
        "outputId": "e35e2a52-2de9-4a2c-a49a-07db31073268",
        "colab": {
          "base_uri": "https://localhost:8080/",
          "height": 35
        }
      },
      "source": [
        "!ls"
      ],
      "execution_count": 144,
      "outputs": [
        {
          "output_type": "stream",
          "text": [
            "customer_buy.pt  sample_data\n"
          ],
          "name": "stdout"
        }
      ]
    },
    {
      "cell_type": "code",
      "metadata": {
        "id": "t3re8L4JTEGL"
      },
      "source": [
        "restored_model = torch.load('customer_buy.pt')"
      ],
      "execution_count": 145,
      "outputs": []
    },
    {
      "cell_type": "code",
      "metadata": {
        "id": "xqc-j_SSTPzo",
        "outputId": "922538c6-2c0f-4c18-df36-17e0fc34a901",
        "colab": {
          "base_uri": "https://localhost:8080/",
          "height": 35
        }
      },
      "source": [
        "y_cust_20_40000 = restored_model(torch.from_numpy(sc.transform(np.array([[40,20000]]))).float())\n",
        "y_cust_20_40000"
      ],
      "execution_count": 146,
      "outputs": [
        {
          "output_type": "execute_result",
          "data": {
            "text/plain": [
              "tensor([[-0.0509, -3.0027]], grad_fn=<LogSoftmaxBackward>)"
            ]
          },
          "metadata": {
            "tags": []
          },
          "execution_count": 146
        }
      ]
    },
    {
      "cell_type": "code",
      "metadata": {
        "id": "L5ySKmFnYAaw"
      },
      "source": [
        "_, predicted_20_40000 = torch.max(y_cust_20_40000.data,-1)\n",
        "predicted_20_40000"
      ],
      "execution_count": null,
      "outputs": []
    },
    {
      "cell_type": "code",
      "metadata": {
        "id": "UoK5lRweWa6a",
        "outputId": "47aaea40-0436-4772-e9b4-654398fd7886",
        "colab": {
          "base_uri": "https://localhost:8080/",
          "height": 35
        }
      },
      "source": [
        "y_cust_42_50000 = restored_model(torch.from_numpy(sc.transform(np.array([[42,50000]]))).float())\n",
        "y_cust_42_50000"
      ],
      "execution_count": 137,
      "outputs": [
        {
          "output_type": "execute_result",
          "data": {
            "text/plain": [
              "tensor([[-1.8194, -0.1769]], grad_fn=<LogSoftmaxBackward>)"
            ]
          },
          "metadata": {
            "tags": []
          },
          "execution_count": 137
        }
      ]
    },
    {
      "cell_type": "code",
      "metadata": {
        "id": "YW3E7wd9Wgf7",
        "outputId": "3179d489-e893-440d-db05-6c9d6ae894a5",
        "colab": {
          "base_uri": "https://localhost:8080/",
          "height": 35
        }
      },
      "source": [
        "_, predicted_42_50000 = torch.max(y_cust_42_50000.data,-1)\n",
        "predicted_42_50000"
      ],
      "execution_count": 147,
      "outputs": [
        {
          "output_type": "execute_result",
          "data": {
            "text/plain": [
              "tensor([1])"
            ]
          },
          "metadata": {
            "tags": []
          },
          "execution_count": 147
        }
      ]
    },
    {
      "cell_type": "code",
      "metadata": {
        "id": "j_MJrmZLYH0j",
        "outputId": "52bef2af-1881-42da-8268-71adb75bb8f4",
        "colab": {
          "base_uri": "https://localhost:8080/",
          "height": 763
        }
      },
      "source": [
        "model.state_dict()"
      ],
      "execution_count": 148,
      "outputs": [
        {
          "output_type": "execute_result",
          "data": {
            "text/plain": [
              "OrderedDict([('fc1.weight', tensor([[-0.9864, -1.2837],\n",
              "                      [ 1.4515,  2.3153],\n",
              "                      [-1.1692, -1.9637],\n",
              "                      [ 1.3871,  2.1355],\n",
              "                      [-1.2228, -1.3740],\n",
              "                      [-0.5296, -1.2058],\n",
              "                      [-0.6352, -1.9374],\n",
              "                      [ 0.8996,  1.6957],\n",
              "                      [ 1.2772,  2.2182],\n",
              "                      [ 0.8922,  2.2475]])),\n",
              "             ('fc1.bias',\n",
              "              tensor([ 0.6471, -0.4239,  0.4698, -0.4703,  0.6362,  0.5852,  0.4551, -0.4997,\n",
              "                      -0.4275, -0.4124])),\n",
              "             ('fc2.weight',\n",
              "              tensor([[-0.6787,  1.0874, -0.9766,  1.0417, -0.6620, -0.5422, -0.9160,  0.5751,\n",
              "                        0.7566,  0.7446],\n",
              "                      [ 0.7517, -0.8780,  0.8212, -0.8919,  0.6313,  0.8368,  0.5486, -0.8961,\n",
              "                       -0.5550, -0.6621],\n",
              "                      [-0.7920,  1.0582, -1.0493,  0.8419, -0.9549, -0.2606, -1.0248,  0.9147,\n",
              "                        0.9827,  0.8524],\n",
              "                      [-1.0450,  1.3990, -1.1639,  1.0068, -0.9116, -1.0928, -1.2452,  1.0440,\n",
              "                        1.2732,  1.2376],\n",
              "                      [-0.0278, -0.3602,  0.5308, -0.2927,  0.0262,  0.1346, -0.0246, -0.4538,\n",
              "                       -0.1470, -0.6132],\n",
              "                      [-0.7886,  0.9099, -0.9646,  1.1241, -0.9925, -0.3769, -0.5335,  0.8333,\n",
              "                        1.1120,  0.8825],\n",
              "                      [ 0.6655, -0.7651,  1.0151, -0.7615,  0.3179,  0.7856,  0.8650, -0.6567,\n",
              "                       -0.5758, -0.8199],\n",
              "                      [ 1.0434, -1.3330,  0.8852, -1.0998,  0.6677,  1.1022,  0.7024, -0.9950,\n",
              "                       -1.2118, -1.3430],\n",
              "                      [-0.6705,  1.0592, -1.1760,  1.2234, -0.7494, -1.0157, -1.2048,  0.9812,\n",
              "                        1.1671,  1.5940],\n",
              "                      [ 0.4245, -0.9760,  0.7521, -0.9222,  1.0004,  0.8482,  1.0934, -0.9794,\n",
              "                       -1.2055, -1.2300]])),\n",
              "             ('fc2.bias',\n",
              "              tensor([-0.2605,  0.1545, -0.2273,  0.1079, -0.0642, -0.4572, -0.0374,  0.3624,\n",
              "                      -0.2167,  0.4173])),\n",
              "             ('fc3.weight',\n",
              "              tensor([[-0.7879,  0.3693, -1.0029, -0.3507,  0.1662, -0.8317,  0.4517,  0.6432,\n",
              "                       -0.9068,  0.5183],\n",
              "                      [ 0.6957, -0.2263,  0.8275,  0.8598,  0.3133,  0.8950, -0.2454, -0.4509,\n",
              "                        0.4834, -0.3348]])),\n",
              "             ('fc3.bias', tensor([0.0441, 0.0359]))])"
            ]
          },
          "metadata": {
            "tags": []
          },
          "execution_count": 148
        }
      ]
    },
    {
      "cell_type": "code",
      "metadata": {
        "id": "rhYmBExDYbQS",
        "outputId": "b1b4d645-eff5-409d-9ba0-df3e4394db05",
        "colab": {
          "base_uri": "https://localhost:8080/",
          "height": 1000
        }
      },
      "source": [
        "optimizer.state_dict()"
      ],
      "execution_count": 150,
      "outputs": [
        {
          "output_type": "execute_result",
          "data": {
            "text/plain": [
              "{'param_groups': [{'amsgrad': False,\n",
              "   'betas': (0.9, 0.999),\n",
              "   'eps': 1e-08,\n",
              "   'lr': 0.01,\n",
              "   'params': [0, 1, 2, 3, 4, 5],\n",
              "   'weight_decay': 0}],\n",
              " 'state': {0: {'exp_avg': tensor([[ 0.0003,  0.0015],\n",
              "           [-0.0004, -0.0023],\n",
              "           [ 0.0005,  0.0021],\n",
              "           [-0.0004, -0.0021],\n",
              "           [ 0.0003,  0.0016],\n",
              "           [ 0.0003,  0.0013],\n",
              "           [ 0.0005,  0.0018],\n",
              "           [-0.0004, -0.0018],\n",
              "           [-0.0005, -0.0021],\n",
              "           [-0.0006, -0.0021]]),\n",
              "   'exp_avg_sq': tensor([[1.5701e-06, 1.8931e-06],\n",
              "           [3.8541e-06, 4.4008e-06],\n",
              "           [4.5577e-06, 4.5771e-06],\n",
              "           [3.3392e-06, 3.8481e-06],\n",
              "           [1.5019e-06, 1.9912e-06],\n",
              "           [1.2225e-06, 1.3598e-06],\n",
              "           [1.6402e-06, 1.8860e-06],\n",
              "           [2.1237e-06, 2.4479e-06],\n",
              "           [3.5023e-06, 3.8504e-06],\n",
              "           [3.2240e-06, 3.2902e-06]]),\n",
              "   'step': 200},\n",
              "  1: {'exp_avg': tensor([ 2.9473e-05, -9.1397e-05,  7.7799e-05, -8.9245e-05,  4.7826e-05,\n",
              "           -6.7421e-06,  3.1198e-05, -3.8598e-05, -6.9937e-05, -5.6609e-05]),\n",
              "   'exp_avg_sq': tensor([2.8973e-08, 1.1709e-07, 9.1968e-08, 1.4435e-07, 2.4892e-08, 1.7243e-08,\n",
              "           2.5244e-08, 6.7846e-08, 1.3655e-07, 5.8338e-08]),\n",
              "   'step': 200},\n",
              "  2: {'exp_avg': tensor([[ 5.0104e-04, -5.8353e-04,  7.0786e-04, -5.2609e-04,  5.4311e-04,\n",
              "             4.4637e-04,  6.4695e-04, -3.5904e-04, -5.4125e-04, -5.1268e-04],\n",
              "           [-2.5567e-04,  2.0817e-04, -3.3952e-04,  1.8458e-04, -2.7347e-04,\n",
              "            -2.3121e-04, -3.1228e-04,  1.1326e-04,  1.8972e-04,  1.7634e-04],\n",
              "           [ 5.8872e-04, -7.5896e-04,  8.4737e-04, -6.8795e-04,  6.3861e-04,\n",
              "             5.2597e-04,  7.7946e-04, -4.8768e-04, -7.0958e-04, -6.8020e-04],\n",
              "           [ 2.3430e-04, -5.6763e-04,  4.0467e-04, -5.2179e-04,  2.6250e-04,\n",
              "             2.0470e-04,  3.7350e-04, -4.0414e-04, -5.4044e-04, -5.3091e-04],\n",
              "           [-6.0822e-05,  3.1138e-05, -5.6381e-05,  3.4096e-05, -6.0662e-05,\n",
              "            -5.7637e-05, -5.9187e-05,  4.4324e-05,  3.5316e-05,  3.8662e-05],\n",
              "           [ 7.4295e-04, -6.0484e-04,  9.8169e-04, -5.3890e-04,  7.8881e-04,\n",
              "             6.8211e-04,  9.1900e-04, -3.4900e-04, -5.5780e-04, -5.3137e-04],\n",
              "           [-3.2864e-04,  2.2501e-04, -4.2586e-04,  1.9741e-04, -3.4995e-04,\n",
              "            -2.9840e-04, -3.9211e-04,  1.1212e-04,  2.0264e-04,  1.8557e-04],\n",
              "           [-4.9392e-04,  3.8334e-04, -6.4489e-04,  3.4227e-04, -5.2044e-04,\n",
              "            -4.5950e-04, -6.1277e-04,  2.2886e-04,  3.5646e-04,  3.4587e-04],\n",
              "           [ 4.6627e-04, -5.6364e-04,  6.5904e-04, -5.1143e-04,  4.9993e-04,\n",
              "             4.2558e-04,  6.1891e-04, -3.7098e-04, -5.3056e-04, -5.1704e-04],\n",
              "           [-2.9311e-04,  3.5766e-04, -4.1549e-04,  3.2420e-04, -3.1635e-04,\n",
              "            -2.6370e-04, -3.8450e-04,  2.3058e-04,  3.3483e-04,  3.2198e-04]]),\n",
              "   'exp_avg_sq': tensor([[4.6869e-07, 2.3972e-06, 1.9993e-06, 1.7869e-06, 6.8432e-07, 3.3674e-07,\n",
              "            6.5505e-07, 5.2808e-07, 1.8270e-06, 9.5870e-07],\n",
              "           [3.2281e-07, 1.5427e-06, 8.7585e-07, 1.0991e-06, 3.8273e-07, 1.1238e-07,\n",
              "            2.7085e-07, 3.9526e-07, 1.2515e-06, 6.8876e-07],\n",
              "           [8.6953e-07, 6.0724e-06, 4.0222e-06, 4.4973e-06, 1.2813e-06, 6.0588e-07,\n",
              "            1.1598e-06, 1.4218e-06, 4.7086e-06, 2.4433e-06],\n",
              "           [5.4578e-08, 4.6333e-07, 2.6325e-07, 3.7160e-07, 8.8296e-08, 3.1120e-08,\n",
              "            8.4176e-08, 1.5386e-07, 3.8083e-07, 2.4098e-07],\n",
              "           [3.1758e-08, 9.1726e-08, 2.3420e-08, 5.3560e-08, 2.4262e-08, 9.5756e-09,\n",
              "            1.3439e-08, 2.8072e-08, 8.0349e-08, 4.5471e-08],\n",
              "           [1.8847e-06, 5.2265e-06, 6.5329e-06, 3.7524e-06, 2.5181e-06, 1.3277e-06,\n",
              "            2.4366e-06, 9.7270e-07, 3.8483e-06, 1.9052e-06],\n",
              "           [5.3338e-07, 2.3194e-06, 1.4947e-06, 1.6423e-06, 6.4479e-07, 2.0662e-07,\n",
              "            4.7290e-07, 5.5230e-07, 1.8579e-06, 9.9435e-07],\n",
              "           [8.5123e-07, 7.7121e-07, 1.9824e-06, 5.8453e-07, 1.0770e-06, 4.3846e-07,\n",
              "            9.5174e-07, 1.0328e-07, 5.7363e-07, 3.0531e-07],\n",
              "           [4.3967e-07, 9.8517e-07, 1.4967e-06, 7.5819e-07, 6.2147e-07, 2.7802e-07,\n",
              "            5.8522e-07, 1.7940e-07, 7.2391e-07, 3.7905e-07],\n",
              "           [3.5022e-07, 1.1023e-06, 1.0144e-06, 8.3143e-07, 4.6961e-07, 1.1781e-07,\n",
              "            3.5388e-07, 2.6115e-07, 8.8374e-07, 4.9756e-07]]),\n",
              "   'step': 200},\n",
              "  3: {'exp_avg': tensor([ 2.4725e-04, -1.8327e-04,  2.3702e-04, -7.2944e-05, -1.6686e-05,\n",
              "            5.1696e-04, -2.6259e-04, -3.4610e-04,  2.0103e-04, -1.2738e-04]),\n",
              "   'exp_avg_sq': tensor([4.8762e-07, 4.1386e-07, 1.0488e-06, 4.9272e-08, 6.4485e-08, 2.3644e-06,\n",
              "           6.5437e-07, 7.5930e-07, 3.6210e-07, 2.5168e-07]),\n",
              "   'step': 200},\n",
              "  4: {'exp_avg': tensor([[ 1.6446e-03,  7.4243e-04,  1.9240e-03,  2.7563e-03,  1.7065e-03,\n",
              "             1.8348e-03,  7.9619e-04, -3.3964e-04,  2.6568e-03, -4.9148e-05],\n",
              "           [-1.6446e-03, -7.4243e-04, -1.9240e-03, -2.7563e-03, -1.7065e-03,\n",
              "            -1.8348e-03, -7.9618e-04,  3.3964e-04, -2.6568e-03,  4.9150e-05]]),\n",
              "   'exp_avg_sq': tensor([[5.5964e-05, 7.0164e-05, 7.8076e-05, 7.0470e-05, 4.8322e-05, 1.1003e-04,\n",
              "            6.4511e-05, 4.5579e-05, 1.0544e-04, 6.6572e-05],\n",
              "           [5.5964e-05, 7.0164e-05, 7.8076e-05, 7.0470e-05, 4.8322e-05, 1.1003e-04,\n",
              "            6.4511e-05, 4.5579e-05, 1.0544e-04, 6.6572e-05]]),\n",
              "   'step': 200},\n",
              "  5: {'exp_avg': tensor([ 0.0021, -0.0021]),\n",
              "   'exp_avg_sq': tensor([0.0001, 0.0001]),\n",
              "   'step': 200}}}"
            ]
          },
          "metadata": {
            "tags": []
          },
          "execution_count": 150
        }
      ]
    },
    {
      "cell_type": "code",
      "metadata": {
        "id": "QWQrBXK-YlXb"
      },
      "source": [
        "torch.save(model.state_dict(),'customer_buy_state_dict')"
      ],
      "execution_count": 165,
      "outputs": []
    },
    {
      "cell_type": "code",
      "metadata": {
        "id": "KaPlxqH8Y0RI",
        "outputId": "1764d8e4-f430-43fb-b5d0-60bd15300c0d",
        "colab": {
          "base_uri": "https://localhost:8080/",
          "height": 52
        }
      },
      "source": [
        "!ls"
      ],
      "execution_count": 166,
      "outputs": [
        {
          "output_type": "stream",
          "text": [
            "customer_buy.pt\t\t customer_buy_state_dict.pt\n",
            "customer_buy_state_dict  sample_data\n"
          ],
          "name": "stdout"
        }
      ]
    },
    {
      "cell_type": "code",
      "metadata": {
        "id": "LyzySw6BY3VA"
      },
      "source": [
        "new_predictor = Net()"
      ],
      "execution_count": 167,
      "outputs": []
    },
    {
      "cell_type": "code",
      "metadata": {
        "id": "BVHtBswUZAwH",
        "outputId": "fe38df8d-b6be-4eaf-bad8-fc609eb46ded",
        "colab": {
          "base_uri": "https://localhost:8080/",
          "height": 35
        }
      },
      "source": [
        "new_predictor.load_state_dict(torch.load('customer_buy_state_dict'))"
      ],
      "execution_count": 168,
      "outputs": [
        {
          "output_type": "execute_result",
          "data": {
            "text/plain": [
              "<All keys matched successfully>"
            ]
          },
          "metadata": {
            "tags": []
          },
          "execution_count": 168
        }
      ]
    },
    {
      "cell_type": "code",
      "metadata": {
        "id": "RMKQbQRhazyq",
        "outputId": "0456dca7-9dea-410a-8720-a6589afda938",
        "colab": {
          "base_uri": "https://localhost:8080/",
          "height": 35
        }
      },
      "source": [
        "y_cust_20_40000 = new_predictor(torch.from_numpy(sc.transform(np.array([[40,20000]]))).float())\n",
        "y_cust_20_40000"
      ],
      "execution_count": 170,
      "outputs": [
        {
          "output_type": "execute_result",
          "data": {
            "text/plain": [
              "tensor([[-0.0509, -3.0027]], grad_fn=<LogSoftmaxBackward>)"
            ]
          },
          "metadata": {
            "tags": []
          },
          "execution_count": 170
        }
      ]
    },
    {
      "cell_type": "code",
      "metadata": {
        "id": "oa-kcvOSZHl0",
        "outputId": "63f224cc-a545-4888-f507-34716c87e40a",
        "colab": {
          "base_uri": "https://localhost:8080/",
          "height": 35
        }
      },
      "source": [
        "y_cust_42_50000 = new_predictor(torch.from_numpy(sc.transform(np.array([[42,50000]]))).float())\n",
        "y_cust_42_50000"
      ],
      "execution_count": 169,
      "outputs": [
        {
          "output_type": "execute_result",
          "data": {
            "text/plain": [
              "tensor([[-1.8194, -0.1769]], grad_fn=<LogSoftmaxBackward>)"
            ]
          },
          "metadata": {
            "tags": []
          },
          "execution_count": 169
        }
      ]
    }
  ]
}