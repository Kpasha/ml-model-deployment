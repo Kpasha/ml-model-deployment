{
  "nbformat": 4,
  "nbformat_minor": 0,
  "metadata": {
    "colab": {
      "name": "tf_mnist_save_model.ipynb",
      "provenance": [],
      "collapsed_sections": []
    },
    "kernelspec": {
      "name": "python3",
      "display_name": "Python 3"
    }
  },
  "cells": [
    {
      "cell_type": "code",
      "metadata": {
        "id": "KsyWXkKJdc_g"
      },
      "source": [
        "import keras\n",
        "from keras.datasets import mnist\n",
        "from keras.models import Sequential\n",
        "from keras.layers import Dense\n",
        "from keras.optimizers import RMSprop\n",
        "import matplotlib.pyplot as plt\n",
        "\n"
      ],
      "execution_count": 67,
      "outputs": []
    },
    {
      "cell_type": "code",
      "metadata": {
        "id": "IZiGl0bnlYv_"
      },
      "source": [
        ""
      ],
      "execution_count": 67,
      "outputs": []
    },
    {
      "cell_type": "markdown",
      "metadata": {
        "id": "KgLKFjL2eUkG"
      },
      "source": [
        "Keras has 60K training images and 10K testing images\n"
      ]
    },
    {
      "cell_type": "code",
      "metadata": {
        "id": "gACIEYSmdvpc"
      },
      "source": [
        "(mnist_train_images, mnist_train_labels), (mnist_test_images, mnist_test_labels) = mnist.load_data()"
      ],
      "execution_count": 69,
      "outputs": []
    },
    {
      "cell_type": "markdown",
      "metadata": {
        "id": "4exl1-C2ekE0"
      },
      "source": [
        "# Reshape and normalize"
      ]
    },
    {
      "cell_type": "code",
      "metadata": {
        "id": "rxtx9twFeFJe"
      },
      "source": [
        "train_images = mnist_train_images.reshape(60000, 784)\n",
        "test_images = mnist_test_images.reshape(10000, 784)\n",
        "train_images = train_images.astype('float32')\n",
        "test_images = test_images.astype('float32')\n",
        "train_images /= 255\n",
        "test_images /= 255"
      ],
      "execution_count": 70,
      "outputs": []
    },
    {
      "cell_type": "markdown",
      "metadata": {
        "id": "dYiCZhrXesFy"
      },
      "source": [
        ""
      ]
    },
    {
      "cell_type": "code",
      "metadata": {
        "id": "-Nm2C5aVee8O"
      },
      "source": [
        "train_labels = keras.utils.to_categorical(mnist_train_labels, 10)\n",
        "test_labels = keras.utils.to_categorical(mnist_test_labels, 10)"
      ],
      "execution_count": 71,
      "outputs": []
    },
    {
      "cell_type": "code",
      "metadata": {
        "id": "agczpw7xe72F"
      },
      "source": [
        "model = Sequential()\n",
        "model.add(Dense(512, activation='relu', input_shape=(784,)))\n",
        "model.add(Dense(10, activation='softmax'))"
      ],
      "execution_count": 72,
      "outputs": []
    },
    {
      "cell_type": "code",
      "metadata": {
        "id": "9e1GEmlKfK6c"
      },
      "source": [
        "model.compile(loss='categorical_crossentropy',optimizer=RMSprop(),metrics=['accuracy'])"
      ],
      "execution_count": 73,
      "outputs": []
    },
    {
      "cell_type": "code",
      "metadata": {
        "id": "E4-jXGVUfSAZ",
        "outputId": "e297a435-17fc-401f-f0bb-a48e9c7c947a",
        "colab": {
          "base_uri": "https://localhost:8080/",
          "height": 225
        }
      },
      "source": [
        "model.summary()\n"
      ],
      "execution_count": 74,
      "outputs": [
        {
          "output_type": "stream",
          "text": [
            "Model: \"sequential_2\"\n",
            "_________________________________________________________________\n",
            "Layer (type)                 Output Shape              Param #   \n",
            "=================================================================\n",
            "dense_4 (Dense)              (None, 512)               401920    \n",
            "_________________________________________________________________\n",
            "dense_5 (Dense)              (None, 10)                5130      \n",
            "=================================================================\n",
            "Total params: 407,050\n",
            "Trainable params: 407,050\n",
            "Non-trainable params: 0\n",
            "_________________________________________________________________\n"
          ],
          "name": "stdout"
        }
      ]
    },
    {
      "cell_type": "code",
      "metadata": {
        "id": "ZFOywWXrfTlV",
        "outputId": "c7d70a97-c38d-41a9-ecf1-422d7e630821",
        "colab": {
          "base_uri": "https://localhost:8080/",
          "height": 381
        }
      },
      "source": [
        "model.fit(train_images, train_labels,\n",
        "                    batch_size=100,\n",
        "                    epochs=10,\n",
        "                    verbose=2,\n",
        "                    validation_data=(test_images, test_labels))"
      ],
      "execution_count": 75,
      "outputs": [
        {
          "output_type": "stream",
          "text": [
            "Epoch 1/10\n",
            "600/600 - 5s - loss: 0.2396 - accuracy: 0.9298 - val_loss: 0.1317 - val_accuracy: 0.9587\n",
            "Epoch 2/10\n",
            "600/600 - 6s - loss: 0.0962 - accuracy: 0.9715 - val_loss: 0.0842 - val_accuracy: 0.9746\n",
            "Epoch 3/10\n",
            "600/600 - 7s - loss: 0.0634 - accuracy: 0.9809 - val_loss: 0.0750 - val_accuracy: 0.9766\n",
            "Epoch 4/10\n",
            "600/600 - 4s - loss: 0.0468 - accuracy: 0.9864 - val_loss: 0.0755 - val_accuracy: 0.9780\n",
            "Epoch 5/10\n",
            "600/600 - 4s - loss: 0.0339 - accuracy: 0.9899 - val_loss: 0.0709 - val_accuracy: 0.9780\n",
            "Epoch 6/10\n",
            "600/600 - 4s - loss: 0.0270 - accuracy: 0.9915 - val_loss: 0.0650 - val_accuracy: 0.9809\n",
            "Epoch 7/10\n",
            "600/600 - 4s - loss: 0.0202 - accuracy: 0.9938 - val_loss: 0.0757 - val_accuracy: 0.9796\n",
            "Epoch 8/10\n",
            "600/600 - 4s - loss: 0.0164 - accuracy: 0.9952 - val_loss: 0.0679 - val_accuracy: 0.9827\n",
            "Epoch 9/10\n",
            "600/600 - 4s - loss: 0.0127 - accuracy: 0.9962 - val_loss: 0.0691 - val_accuracy: 0.9821\n",
            "Epoch 10/10\n",
            "600/600 - 4s - loss: 0.0094 - accuracy: 0.9972 - val_loss: 0.0864 - val_accuracy: 0.9797\n"
          ],
          "name": "stdout"
        },
        {
          "output_type": "execute_result",
          "data": {
            "text/plain": [
              "<tensorflow.python.keras.callbacks.History at 0x7fc4d7f80c18>"
            ]
          },
          "metadata": {
            "tags": []
          },
          "execution_count": 75
        }
      ]
    },
    {
      "cell_type": "code",
      "metadata": {
        "id": "6okPGm-5focD",
        "outputId": "56fc9e6a-7f32-4ee9-f824-fd1eb6b28149",
        "colab": {
          "base_uri": "https://localhost:8080/",
          "height": 35
        }
      },
      "source": [
        "loss, accuracy = model.evaluate(test_images,  test_labels, verbose=2)\n"
      ],
      "execution_count": 76,
      "outputs": [
        {
          "output_type": "stream",
          "text": [
            "313/313 - 1s - loss: 0.0864 - accuracy: 0.9797\n"
          ],
          "name": "stdout"
        }
      ]
    },
    {
      "cell_type": "markdown",
      "metadata": {
        "id": "d4ONCCmohzAf"
      },
      "source": [
        "Predict image : 5233"
      ]
    },
    {
      "cell_type": "code",
      "metadata": {
        "id": "WkzBpwTHhMu5",
        "outputId": "c4341ea6-de20-4a07-8050-a76cd6d73213",
        "colab": {
          "base_uri": "https://localhost:8080/",
          "height": 281
        }
      },
      "source": [
        "    test_image = test_images[5233,:].reshape(1,784)\n",
        "    predicted_cat = model.predict(test_image).argmax()\n",
        "    label = test_labels[5233].argmax()\n",
        "    plt.title('Prediction: %d Label: %d' % (predicted_cat, label))\n",
        "    plt.imshow(test_image.reshape([28,28]), cmap=plt.get_cmap('gray_r'))\n",
        "    plt.show()"
      ],
      "execution_count": 77,
      "outputs": [
        {
          "output_type": "display_data",
          "data": {
            "image/png": "[encoded data removed]",
            "text/plain": [
              "<Figure size 432x288 with 1 Axes>"
            ]
          },
          "metadata": {
            "tags": [],
            "needs_background": "light"
          }
        }
      ]
    },
    {
      "cell_type": "markdown",
      "metadata": {
        "id": "iTnntH9Ih11A"
      },
      "source": [
        "Predict image 3245"
      ]
    },
    {
      "cell_type": "markdown",
      "metadata": {
        "id": "Yh0dRQ99h5fM"
      },
      "source": [
        ""
      ]
    },
    {
      "cell_type": "code",
      "metadata": {
        "id": "w_VpxUKUh9HI",
        "outputId": "f5d871ab-a06a-421b-a59f-9cf80ffcf750",
        "colab": {
          "base_uri": "https://localhost:8080/",
          "height": 281
        }
      },
      "source": [
        "test_image = test_images[3245,:].reshape(1,784)\n",
        "predicted_cat = model.predict(test_image).argmax()\n",
        "label = test_labels[3245].argmax()\n",
        "plt.title('Prediction: %d Label: %d' % (predicted_cat, label))\n",
        "plt.imshow(test_image.reshape([28,28]), cmap=plt.get_cmap('gray_r'))\n",
        "plt.show()"
      ],
      "execution_count": 78,
      "outputs": [
        {
          "output_type": "display_data",
          "data": {
            "image/png": "[encoded data removed]",
            "text/plain": [
              "<Figure size 432x288 with 1 Axes>"
            ]
          },
          "metadata": {
            "tags": [],
            "needs_background": "light"
          }
        }
      ]
    },
    {
      "cell_type": "code",
      "metadata": {
        "id": "6ge4FW7Mgf24",
        "outputId": "e17fc9e8-0d17-4cdd-a17e-a549c8c305ea",
        "colab": {
          "base_uri": "https://localhost:8080/",
          "height": 35
        }
      },
      "source": [
        "model.save('image_classifier_model/1') \n"
      ],
      "execution_count": 79,
      "outputs": [
        {
          "output_type": "stream",
          "text": [
            "INFO:tensorflow:Assets written to: image_classifier_model/1/assets\n"
          ],
          "name": "stdout"
        }
      ]
    },
    {
      "cell_type": "code",
      "metadata": {
        "id": "djVVarJ6gmiq",
        "outputId": "24ef6b56-0885-40c4-bb5d-79e9f1133b2b",
        "colab": {
          "base_uri": "https://localhost:8080/",
          "height": 35
        }
      },
      "source": [
        "!ls"
      ],
      "execution_count": 80,
      "outputs": [
        {
          "output_type": "stream",
          "text": [
            "image_classifier_model\tmnistmodel.zip\tsample_data\n"
          ],
          "name": "stdout"
        }
      ]
    },
    {
      "cell_type": "code",
      "metadata": {
        "id": "vogPYrnbgn2Y",
        "outputId": "90ee7db1-be5a-4447-affa-2c23589c150f",
        "colab": {
          "base_uri": "https://localhost:8080/",
          "height": 35
        }
      },
      "source": [
        "!ls image_classifier_model/1\n"
      ],
      "execution_count": 81,
      "outputs": [
        {
          "output_type": "stream",
          "text": [
            "assets\tsaved_model.pb\tvariables\n"
          ],
          "name": "stdout"
        }
      ]
    },
    {
      "cell_type": "code",
      "metadata": {
        "id": "cmvktOMzgs9M"
      },
      "source": [
        "!ls image_classifier_model/1/assets"
      ],
      "execution_count": 82,
      "outputs": []
    },
    {
      "cell_type": "code",
      "metadata": {
        "id": "AhTx2ZFtgxU7",
        "outputId": "22604f4f-f270-4257-cc13-b6b19b252924",
        "colab": {
          "base_uri": "https://localhost:8080/",
          "height": 35
        }
      },
      "source": [
        "!ls image_classifier_model/1/variables"
      ],
      "execution_count": 83,
      "outputs": [
        {
          "output_type": "stream",
          "text": [
            "variables.data-00000-of-00001  variables.index\n"
          ],
          "name": "stdout"
        }
      ]
    },
    {
      "cell_type": "code",
      "metadata": {
        "id": "mQnd0qGJg1a-"
      },
      "source": [
        "from tensorflow.keras.models import load_model\n"
      ],
      "execution_count": 85,
      "outputs": []
    },
    {
      "cell_type": "code",
      "metadata": {
        "id": "PGmaeTBmg6s4"
      },
      "source": [
        "mnist_model = load_model('image_classifier_model/1/')\n"
      ],
      "execution_count": 86,
      "outputs": []
    },
    {
      "cell_type": "code",
      "metadata": {
        "id": "lEe0LLOVg__d",
        "outputId": "b78789af-c210-43c1-a462-5534639ee98f",
        "colab": {
          "base_uri": "https://localhost:8080/",
          "height": 281
        }
      },
      "source": [
        "test_image = test_images[5233,:].reshape(1,784)\n",
        "predicted_cat = mnist_model.predict(test_image).argmax()\n",
        "label = test_labels[5233].argmax()\n",
        "plt.title('Prediction: %d Label: %d' % (predicted_cat, label))\n",
        "plt.imshow(test_image.reshape([28,28]), cmap=plt.get_cmap('gray_r'))\n",
        "plt.show()"
      ],
      "execution_count": 87,
      "outputs": [
        {
          "output_type": "display_data",
          "data": {
            "image/png": "[encoded data removed]",
            "text/plain": [
              "<Figure size 432x288 with 1 Axes>"
            ]
          },
          "metadata": {
            "tags": [],
            "needs_background": "light"
          }
        }
      ]
    },
    {
      "cell_type": "code",
      "metadata": {
        "id": "qpvOHiQLiX5s",
        "outputId": "d48d5255-a7ad-4e60-d8bc-d7c415f1bb05",
        "colab": {
          "base_uri": "https://localhost:8080/",
          "height": 281
        }
      },
      "source": [
        "test_image = test_images[3245,:].reshape(1,784)\n",
        "predicted_cat = model.predict(test_image).argmax()\n",
        "label = test_labels[3245].argmax()\n",
        "plt.title('Prediction: %d Label: %d' % (predicted_cat, label))\n",
        "plt.imshow(test_image.reshape([28,28]), cmap=plt.get_cmap('gray_r'))\n",
        "plt.show()"
      ],
      "execution_count": 88,
      "outputs": [
        {
          "output_type": "display_data",
          "data": {
            "image/png": "[encoded data removed]",
            "text/plain": [
              "<Figure size 432x288 with 1 Axes>"
            ]
          },
          "metadata": {
            "tags": [],
            "needs_background": "light"
          }
        }
      ]
    },
    {
      "cell_type": "code",
      "metadata": {
        "id": "00wLxovsjFO8",
        "outputId": "ba922e9f-29f9-4b1b-9e65-fbf42c248fb4",
        "colab": {
          "base_uri": "https://localhost:8080/",
          "height": 35
        }
      },
      "source": [
        "!ls\n"
      ],
      "execution_count": 91,
      "outputs": [
        {
          "output_type": "stream",
          "text": [
            "image_classifier_model\tsample_data\n"
          ],
          "name": "stdout"
        }
      ]
    },
    {
      "cell_type": "code",
      "metadata": {
        "id": "X6roBjMqi4Yp",
        "outputId": "a3e1c987-cfac-4ed4-a303-187bdedc97ef",
        "colab": {
          "base_uri": "https://localhost:8080/",
          "height": 139
        }
      },
      "source": [
        "!zip -r mnistmodel.zip image_classifier_model\t"
      ],
      "execution_count": 92,
      "outputs": [
        {
          "output_type": "stream",
          "text": [
            "  adding: image_classifier_model/ (stored 0%)\n",
            "  adding: image_classifier_model/1/ (stored 0%)\n",
            "  adding: image_classifier_model/1/assets/ (stored 0%)\n",
            "  adding: image_classifier_model/1/saved_model.pb (deflated 86%)\n",
            "  adding: image_classifier_model/1/variables/ (stored 0%)\n",
            "  adding: image_classifier_model/1/variables/variables.index (deflated 57%)\n",
            "  adding: image_classifier_model/1/variables/variables.data-00000-of-00001 (deflated 12%)\n"
          ],
          "name": "stdout"
        }
      ]
    },
    {
      "cell_type": "code",
      "metadata": {
        "id": "CjT6KBPDjbqg",
        "outputId": "d79cf52f-b7b8-46da-d9b2-68864764a502",
        "colab": {
          "base_uri": "https://localhost:8080/",
          "height": 35
        }
      },
      "source": [
        "!ls"
      ],
      "execution_count": 93,
      "outputs": [
        {
          "output_type": "stream",
          "text": [
            "image_classifier_model\tmnistmodel.zip\tsample_data\n"
          ],
          "name": "stdout"
        }
      ]
    },
    {
      "cell_type": "code",
      "metadata": {
        "id": "SpNykciTjVvG",
        "outputId": "fd45e7dc-9612-4a88-bbf4-97811b532687",
        "colab": {
          "base_uri": "https://localhost:8080/",
          "height": 17
        }
      },
      "source": [
        "from google.colab import files\n",
        "files.download('mnistmodel.zip')"
      ],
      "execution_count": 94,
      "outputs": [
        {
          "output_type": "display_data",
          "data": {
            "application/javascript": [
              "\n",
              "    async function download(id, filename, size) {\n",
              "      if (!google.colab.kernel.accessAllowed) {\n",
              "        return;\n",
              "      }\n",
              "      const div = document.createElement('div');\n",
              "      const label = document.createElement('label');\n",
              "      label.textContent = `Downloading \"${filename}\": `;\n",
              "      div.appendChild(label);\n",
              "      const progress = document.createElement('progress');\n",
              "      progress.max = size;\n",
              "      div.appendChild(progress);\n",
              "      document.body.appendChild(div);\n",
              "\n",
              "      const buffers = [];\n",
              "      let downloaded = 0;\n",
              "\n",
              "      const channel = await google.colab.kernel.comms.open(id);\n",
              "      // Send a message to notify the kernel that we're ready.\n",
              "      channel.send({})\n",
              "\n",
              "      for await (const message of channel.messages) {\n",
              "        // Send a message to notify the kernel that we're ready.\n",
              "        channel.send({})\n",
              "        if (message.buffers) {\n",
              "          for (const buffer of message.buffers) {\n",
              "            buffers.push(buffer);\n",
              "            downloaded += buffer.byteLength;\n",
              "            progress.value = downloaded;\n",
              "          }\n",
              "        }\n",
              "      }\n",
              "      const blob = new Blob(buffers, {type: 'application/binary'});\n",
              "      const a = document.createElement('a');\n",
              "      a.href = window.URL.createObjectURL(blob);\n",
              "      a.download = filename;\n",
              "      div.appendChild(a);\n",
              "      a.click();\n",
              "      div.remove();\n",
              "    }\n",
              "  "
            ],
            "text/plain": [
              "<IPython.core.display.Javascript object>"
            ]
          },
          "metadata": {
            "tags": []
          }
        },
        {
          "output_type": "display_data",
          "data": {
            "application/javascript": [
              "download(\"download_3c8b41b6-6639-4b28-ad5d-75c790d2304e\", \"mnistmodel.zip\", 2871401)"
            ],
            "text/plain": [
              "<IPython.core.display.Javascript object>"
            ]
          },
          "metadata": {
            "tags": []
          }
        }
      ]
    },
    {
      "cell_type": "code",
      "metadata": {
        "id": "L27n3Fehje7C"
      },
      "source": [
        ""
      ],
      "execution_count": null,
      "outputs": []
    }
  ]
}